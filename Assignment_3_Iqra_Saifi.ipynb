{
  "nbformat": 4,
  "nbformat_minor": 0,
  "metadata": {
    "colab": {
      "name": "Assignment 3_Iqra_Saifi.ipynb",
      "provenance": [],
      "collapsed_sections": [],
      "toc_visible": true,
      "authorship_tag": "ABX9TyOeUmzxkFNRRs6ZJ4Z/vL13",
      "include_colab_link": true
    },
    "kernelspec": {
      "name": "python3",
      "display_name": "Python 3"
    }
  },
  "cells": [
    {
      "cell_type": "markdown",
      "metadata": {
        "id": "view-in-github",
        "colab_type": "text"
      },
      "source": [
        "<a href=\"https://colab.research.google.com/github/iqrasaifi/Assignment-DataAnalysis/blob/master/Assignment_3_Iqra_Saifi.ipynb\" target=\"_parent\"><img src=\"https://colab.research.google.com/assets/colab-badge.svg\" alt=\"Open In Colab\"/></a>"
      ]
    },
    {
      "cell_type": "code",
      "metadata": {
        "id": "5OrnnhamnNzZ",
        "colab_type": "code",
        "colab": {}
      },
      "source": [
        "import pandas as pd\n",
        "import numpy as np\n",
        "import matplotlib.pyplot as plt\n",
        "import seaborn as sns\n",
        "from sklearn.preprocessing import LabelEncoder\n",
        "from sklearn.preprocessing import OneHotEncoder"
      ],
      "execution_count": 0,
      "outputs": []
    },
    {
      "cell_type": "code",
      "metadata": {
        "id": "eYIK7zw7pHq6",
        "colab_type": "code",
        "outputId": "084918b3-e1db-47b0-9156-6256a5e7b1e2",
        "colab": {
          "base_uri": "https://localhost:8080/",
          "height": 233
        }
      },
      "source": [
        "df=pd.read_csv('/content/dataset_model.csv', sep=',')\n",
        "df.head()"
      ],
      "execution_count": 405,
      "outputs": [
        {
          "output_type": "execute_result",
          "data": {
            "text/html": [
              "<div>\n",
              "<style scoped>\n",
              "    .dataframe tbody tr th:only-of-type {\n",
              "        vertical-align: middle;\n",
              "    }\n",
              "\n",
              "    .dataframe tbody tr th {\n",
              "        vertical-align: top;\n",
              "    }\n",
              "\n",
              "    .dataframe thead th {\n",
              "        text-align: right;\n",
              "    }\n",
              "</style>\n",
              "<table border=\"1\" class=\"dataframe\">\n",
              "  <thead>\n",
              "    <tr style=\"text-align: right;\">\n",
              "      <th></th>\n",
              "      <th>Loan_ID</th>\n",
              "      <th>Gender</th>\n",
              "      <th>Married</th>\n",
              "      <th>Dependents</th>\n",
              "      <th>Education</th>\n",
              "      <th>Self_Employed</th>\n",
              "      <th>ApplicantIncome</th>\n",
              "      <th>CoapplicantIncome</th>\n",
              "      <th>LoanAmount</th>\n",
              "      <th>Loan_Amount_Term</th>\n",
              "      <th>Credit_History</th>\n",
              "      <th>Property_Area</th>\n",
              "      <th>Loan_Status</th>\n",
              "    </tr>\n",
              "  </thead>\n",
              "  <tbody>\n",
              "    <tr>\n",
              "      <th>0</th>\n",
              "      <td>LP001002</td>\n",
              "      <td>Male</td>\n",
              "      <td>No</td>\n",
              "      <td>0</td>\n",
              "      <td>Graduate</td>\n",
              "      <td>No</td>\n",
              "      <td>5849</td>\n",
              "      <td>0.0</td>\n",
              "      <td>NaN</td>\n",
              "      <td>360.0</td>\n",
              "      <td>1.0</td>\n",
              "      <td>Urban</td>\n",
              "      <td>Y</td>\n",
              "    </tr>\n",
              "    <tr>\n",
              "      <th>1</th>\n",
              "      <td>LP001003</td>\n",
              "      <td>Male</td>\n",
              "      <td>Yes</td>\n",
              "      <td>1</td>\n",
              "      <td>Graduate</td>\n",
              "      <td>No</td>\n",
              "      <td>4583</td>\n",
              "      <td>1508.0</td>\n",
              "      <td>128.0</td>\n",
              "      <td>360.0</td>\n",
              "      <td>1.0</td>\n",
              "      <td>Rural</td>\n",
              "      <td>N</td>\n",
              "    </tr>\n",
              "    <tr>\n",
              "      <th>2</th>\n",
              "      <td>LP001005</td>\n",
              "      <td>Male</td>\n",
              "      <td>Yes</td>\n",
              "      <td>0</td>\n",
              "      <td>Graduate</td>\n",
              "      <td>Yes</td>\n",
              "      <td>3000</td>\n",
              "      <td>0.0</td>\n",
              "      <td>66.0</td>\n",
              "      <td>360.0</td>\n",
              "      <td>1.0</td>\n",
              "      <td>Urban</td>\n",
              "      <td>Y</td>\n",
              "    </tr>\n",
              "    <tr>\n",
              "      <th>3</th>\n",
              "      <td>LP001006</td>\n",
              "      <td>Male</td>\n",
              "      <td>Yes</td>\n",
              "      <td>0</td>\n",
              "      <td>Not Graduate</td>\n",
              "      <td>No</td>\n",
              "      <td>2583</td>\n",
              "      <td>2358.0</td>\n",
              "      <td>120.0</td>\n",
              "      <td>360.0</td>\n",
              "      <td>1.0</td>\n",
              "      <td>Urban</td>\n",
              "      <td>Y</td>\n",
              "    </tr>\n",
              "    <tr>\n",
              "      <th>4</th>\n",
              "      <td>LP001008</td>\n",
              "      <td>Male</td>\n",
              "      <td>No</td>\n",
              "      <td>0</td>\n",
              "      <td>Graduate</td>\n",
              "      <td>No</td>\n",
              "      <td>6000</td>\n",
              "      <td>0.0</td>\n",
              "      <td>141.0</td>\n",
              "      <td>360.0</td>\n",
              "      <td>1.0</td>\n",
              "      <td>Urban</td>\n",
              "      <td>Y</td>\n",
              "    </tr>\n",
              "  </tbody>\n",
              "</table>\n",
              "</div>"
            ],
            "text/plain": [
              "    Loan_ID Gender Married  ... Credit_History Property_Area Loan_Status\n",
              "0  LP001002   Male      No  ...            1.0         Urban           Y\n",
              "1  LP001003   Male     Yes  ...            1.0         Rural           N\n",
              "2  LP001005   Male     Yes  ...            1.0         Urban           Y\n",
              "3  LP001006   Male     Yes  ...            1.0         Urban           Y\n",
              "4  LP001008   Male      No  ...            1.0         Urban           Y\n",
              "\n",
              "[5 rows x 13 columns]"
            ]
          },
          "metadata": {
            "tags": []
          },
          "execution_count": 405
        }
      ]
    },
    {
      "cell_type": "code",
      "metadata": {
        "id": "TeqNVPugpeJQ",
        "colab_type": "code",
        "outputId": "aa71d77b-e6d1-46f3-c352-aa331d678c2a",
        "colab": {
          "base_uri": "https://localhost:8080/",
          "height": 33
        }
      },
      "source": [
        "df.shape"
      ],
      "execution_count": 0,
      "outputs": [
        {
          "output_type": "execute_result",
          "data": {
            "text/plain": [
              "(614, 13)"
            ]
          },
          "metadata": {
            "tags": []
          },
          "execution_count": 129
        }
      ]
    },
    {
      "cell_type": "code",
      "metadata": {
        "id": "O3b6Ye-bpf_I",
        "colab_type": "code",
        "outputId": "86024d19-f46e-4ac1-e185-28bb1f37cc3b",
        "colab": {
          "base_uri": "https://localhost:8080/",
          "height": 84
        }
      },
      "source": [
        "df.columns"
      ],
      "execution_count": 0,
      "outputs": [
        {
          "output_type": "execute_result",
          "data": {
            "text/plain": [
              "Index(['Loan_ID', 'Gender', 'Married', 'Dependents', 'Education',\n",
              "       'Self_Employed', 'ApplicantIncome', 'CoapplicantIncome', 'LoanAmount',\n",
              "       'Loan_Amount_Term', 'Credit_History', 'Property_Area', 'Loan_Status'],\n",
              "      dtype='object')"
            ]
          },
          "metadata": {
            "tags": []
          },
          "execution_count": 130
        }
      ]
    },
    {
      "cell_type": "code",
      "metadata": {
        "id": "6nHvZ2tgoPuL",
        "colab_type": "code",
        "outputId": "853722b6-ba88-4d63-ca19-e9efb75e4d1e",
        "colab": {
          "base_uri": "https://localhost:8080/",
          "height": 251
        }
      },
      "source": [
        "df.dtypes"
      ],
      "execution_count": 0,
      "outputs": [
        {
          "output_type": "execute_result",
          "data": {
            "text/plain": [
              "Loan_ID               object\n",
              "Gender                object\n",
              "Married               object\n",
              "Dependents            object\n",
              "Education             object\n",
              "Self_Employed         object\n",
              "ApplicantIncome        int64\n",
              "CoapplicantIncome    float64\n",
              "LoanAmount           float64\n",
              "Loan_Amount_Term     float64\n",
              "Credit_History       float64\n",
              "Property_Area         object\n",
              "Loan_Status           object\n",
              "dtype: object"
            ]
          },
          "metadata": {
            "tags": []
          },
          "execution_count": 131
        }
      ]
    },
    {
      "cell_type": "code",
      "metadata": {
        "id": "HYqKiLvroT6a",
        "colab_type": "code",
        "outputId": "260f612a-21fe-4531-c6e6-2fcdc3b2d09b",
        "colab": {
          "base_uri": "https://localhost:8080/",
          "height": 50
        }
      },
      "source": [
        "# Numeric Columns\n",
        "df_numeric = df.select_dtypes(include=[np.number])\n",
        "numeric_cols = df_numeric.columns.values\n",
        "print(numeric_cols)"
      ],
      "execution_count": 0,
      "outputs": [
        {
          "output_type": "stream",
          "text": [
            "['ApplicantIncome' 'CoapplicantIncome' 'LoanAmount' 'Loan_Amount_Term'\n",
            " 'Credit_History']\n"
          ],
          "name": "stdout"
        }
      ]
    },
    {
      "cell_type": "code",
      "metadata": {
        "id": "pJVQgMMToeNC",
        "colab_type": "code",
        "outputId": "9c84aa6b-ce70-4dcc-a667-2a98cef0b867",
        "colab": {
          "base_uri": "https://localhost:8080/",
          "height": 50
        }
      },
      "source": [
        "# Non-numeric Columns\n",
        "df_non_numeric = df.select_dtypes(exclude=[np.number])\n",
        "non_numeric_cols = df_non_numeric.columns.values\n",
        "print(non_numeric_cols)"
      ],
      "execution_count": 0,
      "outputs": [
        {
          "output_type": "stream",
          "text": [
            "['Loan_ID' 'Gender' 'Married' 'Dependents' 'Education' 'Self_Employed'\n",
            " 'Property_Area' 'Loan_Status']\n"
          ],
          "name": "stdout"
        }
      ]
    },
    {
      "cell_type": "markdown",
      "metadata": {
        "id": "VVOFkqtQroGa",
        "colab_type": "text"
      },
      "source": [
        "# Perform Exploratory Data Analysis , Data Cleaning & Feature Engg on the Training dataset"
      ]
    },
    {
      "cell_type": "markdown",
      "metadata": {
        "id": "FQlPr_Bor2OT",
        "colab_type": "text"
      },
      "source": [
        "**1. Idenitfy & Remove the field that is providing only unique information about records .Capture it in another dataframe**"
      ]
    },
    {
      "cell_type": "code",
      "metadata": {
        "id": "RrurHskcDLt7",
        "colab_type": "code",
        "outputId": "a993d425-2df3-4d1d-f600-31055347e673",
        "colab": {
          "base_uri": "https://localhost:8080/",
          "height": 404
        }
      },
      "source": [
        "for i in df.columns:\n",
        "  if(df[i].is_unique):\n",
        "    df=df.drop(i,axis=1)\n",
        "df"
      ],
      "execution_count": 0,
      "outputs": [
        {
          "output_type": "execute_result",
          "data": {
            "text/html": [
              "<div>\n",
              "<style scoped>\n",
              "    .dataframe tbody tr th:only-of-type {\n",
              "        vertical-align: middle;\n",
              "    }\n",
              "\n",
              "    .dataframe tbody tr th {\n",
              "        vertical-align: top;\n",
              "    }\n",
              "\n",
              "    .dataframe thead th {\n",
              "        text-align: right;\n",
              "    }\n",
              "</style>\n",
              "<table border=\"1\" class=\"dataframe\">\n",
              "  <thead>\n",
              "    <tr style=\"text-align: right;\">\n",
              "      <th></th>\n",
              "      <th>Gender</th>\n",
              "      <th>Married</th>\n",
              "      <th>Dependents</th>\n",
              "      <th>Education</th>\n",
              "      <th>Self_Employed</th>\n",
              "      <th>ApplicantIncome</th>\n",
              "      <th>CoapplicantIncome</th>\n",
              "      <th>LoanAmount</th>\n",
              "      <th>Loan_Amount_Term</th>\n",
              "      <th>Credit_History</th>\n",
              "      <th>Property_Area</th>\n",
              "      <th>Loan_Status</th>\n",
              "    </tr>\n",
              "  </thead>\n",
              "  <tbody>\n",
              "    <tr>\n",
              "      <th>0</th>\n",
              "      <td>Male</td>\n",
              "      <td>No</td>\n",
              "      <td>0</td>\n",
              "      <td>Graduate</td>\n",
              "      <td>No</td>\n",
              "      <td>5849</td>\n",
              "      <td>0.0</td>\n",
              "      <td>NaN</td>\n",
              "      <td>360.0</td>\n",
              "      <td>1.0</td>\n",
              "      <td>Urban</td>\n",
              "      <td>Y</td>\n",
              "    </tr>\n",
              "    <tr>\n",
              "      <th>1</th>\n",
              "      <td>Male</td>\n",
              "      <td>Yes</td>\n",
              "      <td>1</td>\n",
              "      <td>Graduate</td>\n",
              "      <td>No</td>\n",
              "      <td>4583</td>\n",
              "      <td>1508.0</td>\n",
              "      <td>128.0</td>\n",
              "      <td>360.0</td>\n",
              "      <td>1.0</td>\n",
              "      <td>Rural</td>\n",
              "      <td>N</td>\n",
              "    </tr>\n",
              "    <tr>\n",
              "      <th>2</th>\n",
              "      <td>Male</td>\n",
              "      <td>Yes</td>\n",
              "      <td>0</td>\n",
              "      <td>Graduate</td>\n",
              "      <td>Yes</td>\n",
              "      <td>3000</td>\n",
              "      <td>0.0</td>\n",
              "      <td>66.0</td>\n",
              "      <td>360.0</td>\n",
              "      <td>1.0</td>\n",
              "      <td>Urban</td>\n",
              "      <td>Y</td>\n",
              "    </tr>\n",
              "    <tr>\n",
              "      <th>3</th>\n",
              "      <td>Male</td>\n",
              "      <td>Yes</td>\n",
              "      <td>0</td>\n",
              "      <td>Not Graduate</td>\n",
              "      <td>No</td>\n",
              "      <td>2583</td>\n",
              "      <td>2358.0</td>\n",
              "      <td>120.0</td>\n",
              "      <td>360.0</td>\n",
              "      <td>1.0</td>\n",
              "      <td>Urban</td>\n",
              "      <td>Y</td>\n",
              "    </tr>\n",
              "    <tr>\n",
              "      <th>4</th>\n",
              "      <td>Male</td>\n",
              "      <td>No</td>\n",
              "      <td>0</td>\n",
              "      <td>Graduate</td>\n",
              "      <td>No</td>\n",
              "      <td>6000</td>\n",
              "      <td>0.0</td>\n",
              "      <td>141.0</td>\n",
              "      <td>360.0</td>\n",
              "      <td>1.0</td>\n",
              "      <td>Urban</td>\n",
              "      <td>Y</td>\n",
              "    </tr>\n",
              "    <tr>\n",
              "      <th>...</th>\n",
              "      <td>...</td>\n",
              "      <td>...</td>\n",
              "      <td>...</td>\n",
              "      <td>...</td>\n",
              "      <td>...</td>\n",
              "      <td>...</td>\n",
              "      <td>...</td>\n",
              "      <td>...</td>\n",
              "      <td>...</td>\n",
              "      <td>...</td>\n",
              "      <td>...</td>\n",
              "      <td>...</td>\n",
              "    </tr>\n",
              "    <tr>\n",
              "      <th>609</th>\n",
              "      <td>Female</td>\n",
              "      <td>No</td>\n",
              "      <td>0</td>\n",
              "      <td>Graduate</td>\n",
              "      <td>No</td>\n",
              "      <td>2900</td>\n",
              "      <td>0.0</td>\n",
              "      <td>71.0</td>\n",
              "      <td>360.0</td>\n",
              "      <td>1.0</td>\n",
              "      <td>Rural</td>\n",
              "      <td>Y</td>\n",
              "    </tr>\n",
              "    <tr>\n",
              "      <th>610</th>\n",
              "      <td>Male</td>\n",
              "      <td>Yes</td>\n",
              "      <td>3+</td>\n",
              "      <td>Graduate</td>\n",
              "      <td>No</td>\n",
              "      <td>4106</td>\n",
              "      <td>0.0</td>\n",
              "      <td>40.0</td>\n",
              "      <td>180.0</td>\n",
              "      <td>1.0</td>\n",
              "      <td>Rural</td>\n",
              "      <td>Y</td>\n",
              "    </tr>\n",
              "    <tr>\n",
              "      <th>611</th>\n",
              "      <td>Male</td>\n",
              "      <td>Yes</td>\n",
              "      <td>1</td>\n",
              "      <td>Graduate</td>\n",
              "      <td>No</td>\n",
              "      <td>8072</td>\n",
              "      <td>240.0</td>\n",
              "      <td>253.0</td>\n",
              "      <td>360.0</td>\n",
              "      <td>1.0</td>\n",
              "      <td>Urban</td>\n",
              "      <td>Y</td>\n",
              "    </tr>\n",
              "    <tr>\n",
              "      <th>612</th>\n",
              "      <td>Male</td>\n",
              "      <td>Yes</td>\n",
              "      <td>2</td>\n",
              "      <td>Graduate</td>\n",
              "      <td>No</td>\n",
              "      <td>7583</td>\n",
              "      <td>0.0</td>\n",
              "      <td>187.0</td>\n",
              "      <td>360.0</td>\n",
              "      <td>1.0</td>\n",
              "      <td>Urban</td>\n",
              "      <td>Y</td>\n",
              "    </tr>\n",
              "    <tr>\n",
              "      <th>613</th>\n",
              "      <td>Female</td>\n",
              "      <td>No</td>\n",
              "      <td>0</td>\n",
              "      <td>Graduate</td>\n",
              "      <td>Yes</td>\n",
              "      <td>4583</td>\n",
              "      <td>0.0</td>\n",
              "      <td>133.0</td>\n",
              "      <td>360.0</td>\n",
              "      <td>0.0</td>\n",
              "      <td>Semiurban</td>\n",
              "      <td>N</td>\n",
              "    </tr>\n",
              "  </tbody>\n",
              "</table>\n",
              "<p>614 rows × 12 columns</p>\n",
              "</div>"
            ],
            "text/plain": [
              "     Gender Married Dependents  ... Credit_History Property_Area  Loan_Status\n",
              "0      Male      No          0  ...            1.0         Urban            Y\n",
              "1      Male     Yes          1  ...            1.0         Rural            N\n",
              "2      Male     Yes          0  ...            1.0         Urban            Y\n",
              "3      Male     Yes          0  ...            1.0         Urban            Y\n",
              "4      Male      No          0  ...            1.0         Urban            Y\n",
              "..      ...     ...        ...  ...            ...           ...          ...\n",
              "609  Female      No          0  ...            1.0         Rural            Y\n",
              "610    Male     Yes         3+  ...            1.0         Rural            Y\n",
              "611    Male     Yes          1  ...            1.0         Urban            Y\n",
              "612    Male     Yes          2  ...            1.0         Urban            Y\n",
              "613  Female      No          0  ...            0.0     Semiurban            N\n",
              "\n",
              "[614 rows x 12 columns]"
            ]
          },
          "metadata": {
            "tags": []
          },
          "execution_count": 134
        }
      ]
    },
    {
      "cell_type": "code",
      "metadata": {
        "id": "E3BD-9ueD2vI",
        "colab_type": "code",
        "outputId": "4c0d8a67-0bf9-40fc-f04c-7d699ebc528c",
        "colab": {
          "base_uri": "https://localhost:8080/",
          "height": 33
        }
      },
      "source": [
        "df.shape"
      ],
      "execution_count": 0,
      "outputs": [
        {
          "output_type": "execute_result",
          "data": {
            "text/plain": [
              "(614, 12)"
            ]
          },
          "metadata": {
            "tags": []
          },
          "execution_count": 135
        }
      ]
    },
    {
      "cell_type": "code",
      "metadata": {
        "id": "aEjzE78wD49o",
        "colab_type": "code",
        "outputId": "eb355c4c-f2c6-43c1-ce64-204b94cb02f7",
        "colab": {
          "base_uri": "https://localhost:8080/",
          "height": 84
        }
      },
      "source": [
        "df.columns"
      ],
      "execution_count": 0,
      "outputs": [
        {
          "output_type": "execute_result",
          "data": {
            "text/plain": [
              "Index(['Gender', 'Married', 'Dependents', 'Education', 'Self_Employed',\n",
              "       'ApplicantIncome', 'CoapplicantIncome', 'LoanAmount',\n",
              "       'Loan_Amount_Term', 'Credit_History', 'Property_Area', 'Loan_Status'],\n",
              "      dtype='object')"
            ]
          },
          "metadata": {
            "tags": []
          },
          "execution_count": 136
        }
      ]
    },
    {
      "cell_type": "markdown",
      "metadata": {
        "id": "x2mLhgSubZzO",
        "colab_type": "text"
      },
      "source": [
        "**2. Identifying Continous & Categorical Columns**"
      ]
    },
    {
      "cell_type": "code",
      "metadata": {
        "id": "pegyyv2NHM1U",
        "colab_type": "code",
        "outputId": "925479a4-0ee0-4837-867e-7dc0f547b2a3",
        "colab": {
          "base_uri": "https://localhost:8080/",
          "height": 184
        }
      },
      "source": [
        "print('Categorical Columns are:')\n",
        "for i in df.columns:\n",
        "  if(len(df[i].unique())<15):\n",
        "    print(i)"
      ],
      "execution_count": 0,
      "outputs": [
        {
          "output_type": "stream",
          "text": [
            "Categorical Columns are:\n",
            "Gender\n",
            "Married\n",
            "Dependents\n",
            "Education\n",
            "Self_Employed\n",
            "Loan_Amount_Term\n",
            "Credit_History\n",
            "Property_Area\n",
            "Loan_Status\n"
          ],
          "name": "stdout"
        }
      ]
    },
    {
      "cell_type": "code",
      "metadata": {
        "id": "pErwJfmyGh9c",
        "colab_type": "code",
        "outputId": "76fd5532-8922-44aa-b83d-4282924ad2ce",
        "colab": {
          "base_uri": "https://localhost:8080/",
          "height": 84
        }
      },
      "source": [
        "df_numeric = df.select_dtypes(include=[np.number])\n",
        "numeric_cols = df_numeric.columns.values\n",
        "print('Continuous Columns are:')\n",
        "for i in numeric_cols:\n",
        "  if(len(df[i].unique())>15):\n",
        "    print(i)"
      ],
      "execution_count": 0,
      "outputs": [
        {
          "output_type": "stream",
          "text": [
            "Continuous Columns are:\n",
            "ApplicantIncome\n",
            "CoapplicantIncome\n",
            "LoanAmount\n"
          ],
          "name": "stdout"
        }
      ]
    },
    {
      "cell_type": "markdown",
      "metadata": {
        "id": "JKLTif_bhNiJ",
        "colab_type": "text"
      },
      "source": [
        "**3. Performing Uni-variate Analysis with Plots.Record your Observations**"
      ]
    },
    {
      "cell_type": "markdown",
      "metadata": {
        "id": "oVwlHTgGnDR3",
        "colab_type": "text"
      },
      "source": [
        "Histgram plots for numeric columns"
      ]
    },
    {
      "cell_type": "code",
      "metadata": {
        "id": "bidY08BZlD92",
        "colab_type": "code",
        "outputId": "5d5f016e-4f01-4d50-e71e-a37932328558",
        "colab": {
          "base_uri": "https://localhost:8080/",
          "height": 631
        }
      },
      "source": [
        "df.hist(figsize=[20,10])"
      ],
      "execution_count": 0,
      "outputs": [
        {
          "output_type": "execute_result",
          "data": {
            "text/plain": [
              "array([[<matplotlib.axes._subplots.AxesSubplot object at 0x7f314e13d208>,\n",
              "        <matplotlib.axes._subplots.AxesSubplot object at 0x7f314e045518>],\n",
              "       [<matplotlib.axes._subplots.AxesSubplot object at 0x7f314e07b748>,\n",
              "        <matplotlib.axes._subplots.AxesSubplot object at 0x7f314e02c5c0>],\n",
              "       [<matplotlib.axes._subplots.AxesSubplot object at 0x7f314dfdb828>,\n",
              "        <matplotlib.axes._subplots.AxesSubplot object at 0x7f314df8ba90>]],\n",
              "      dtype=object)"
            ]
          },
          "metadata": {
            "tags": []
          },
          "execution_count": 102
        },
        {
          "output_type": "display_data",
          "data": {
            "image/png": "[encoded data removed]",
            "text/plain": [
              "<Figure size 1440x720 with 6 Axes>"
            ]
          },
          "metadata": {
            "tags": [],
            "needs_background": "light"
          }
        }
      ]
    },
    {
      "cell_type": "markdown",
      "metadata": {
        "id": "HYXnpWqHntVp",
        "colab_type": "text"
      },
      "source": [
        "Observations:\n",
        "1. Almost 525 out of 614 applicants earn less than 10,000 which shows that the people earining less tends to apply for loan more.\n",
        "2. Majority of Coapplicants also earn less than 10,000 which shows alongwith the 1st observation that, payback will be quite risky for the loan amount.\n",
        "3. About 10-11 % (60-65) applicants have no credit history.\n",
        "4. Most of the loan amount ranges between 80-220 which is quite less than the average of the loan amount a bank can gave, so it tells that the bank can give loan to many people.\n",
        "5. the tern for the loan paybak mostly ranges between 350-390 days which is a long term for the credit for the bank."
      ]
    },
    {
      "cell_type": "markdown",
      "metadata": {
        "id": "_lGblXGHnx64",
        "colab_type": "text"
      },
      "source": [
        "Bar plots for non-numeric columns"
      ]
    },
    {
      "cell_type": "code",
      "metadata": {
        "id": "Jv4xNjpWnvtF",
        "colab_type": "code",
        "outputId": "a0809d3d-a71e-4c1a-a3b6-9bb3bf52d9d0",
        "colab": {
          "base_uri": "https://localhost:8080/",
          "height": 321
        }
      },
      "source": [
        "a=df.Gender.value_counts().plot.bar()\n",
        "a.set_xlabel('Gender')\n",
        "a.set_ylabel('Number of Applicants')"
      ],
      "execution_count": 0,
      "outputs": [
        {
          "output_type": "execute_result",
          "data": {
            "text/plain": [
              "Text(0, 0.5, 'Number of Applicants')"
            ]
          },
          "metadata": {
            "tags": []
          },
          "execution_count": 106
        },
        {
          "output_type": "display_data",
          "data": {
            "image/png": "[encoded data removed]",
            "text/plain": [
              "<Figure size 432x288 with 1 Axes>"
            ]
          },
          "metadata": {
            "tags": [],
            "needs_background": "light"
          }
        }
      ]
    },
    {
      "cell_type": "markdown",
      "metadata": {
        "id": "Ffw4mZ9uK0Px",
        "colab_type": "text"
      },
      "source": [
        "Observation: Males tends to apply for loans far more than the females. The difference is of almost 80-82 %."
      ]
    },
    {
      "cell_type": "code",
      "metadata": {
        "id": "UVdr7oEyo36D",
        "colab_type": "code",
        "outputId": "16c8117b-a0c1-442a-f469-6dd9da328b92",
        "colab": {
          "base_uri": "https://localhost:8080/",
          "height": 302
        }
      },
      "source": [
        "b=df.Married.value_counts().plot.bar()\n",
        "b.set_xlabel('Married')\n",
        "b.set_ylabel('Number of Applicants')"
      ],
      "execution_count": 0,
      "outputs": [
        {
          "output_type": "execute_result",
          "data": {
            "text/plain": [
              "Text(0, 0.5, 'Number of Applicants')"
            ]
          },
          "metadata": {
            "tags": []
          },
          "execution_count": 107
        },
        {
          "output_type": "display_data",
          "data": {
            "image/png": "[encoded data removed]",
            "text/plain": [
              "<Figure size 432x288 with 1 Axes>"
            ]
          },
          "metadata": {
            "tags": [],
            "needs_background": "light"
          }
        }
      ]
    },
    {
      "cell_type": "markdown",
      "metadata": {
        "id": "VW5vSAT-Kqlt",
        "colab_type": "text"
      },
      "source": [
        "Observation: Married people tends to apply for loan more than the unmarried."
      ]
    },
    {
      "cell_type": "code",
      "metadata": {
        "id": "HL-SOHXVpK-h",
        "colab_type": "code",
        "outputId": "28e405dc-3462-428d-d3ab-08e5ea489319",
        "colab": {
          "base_uri": "https://localhost:8080/",
          "height": 301
        }
      },
      "source": [
        "c=df.Dependents.value_counts().plot.bar()\n",
        "c.set_xlabel('Dependents')\n",
        "c.set_ylabel('Number of Applicants')"
      ],
      "execution_count": 0,
      "outputs": [
        {
          "output_type": "execute_result",
          "data": {
            "text/plain": [
              "Text(0, 0.5, 'Number of Applicants')"
            ]
          },
          "metadata": {
            "tags": []
          },
          "execution_count": 108
        },
        {
          "output_type": "display_data",
          "data": {
            "image/png": "[encoded data removed]",
            "text/plain": [
              "<Figure size 432x288 with 1 Axes>"
            ]
          },
          "metadata": {
            "tags": [],
            "needs_background": "light"
          }
        }
      ]
    },
    {
      "cell_type": "markdown",
      "metadata": {
        "id": "KtyFLSvvLssY",
        "colab_type": "text"
      },
      "source": [
        "Observation: Those who are independent that is depended only on themselves are given more loans."
      ]
    },
    {
      "cell_type": "code",
      "metadata": {
        "id": "sXSKMbOtrCUk",
        "colab_type": "code",
        "outputId": "50a4136f-bf82-4470-9e51-b199d280f42a",
        "colab": {
          "base_uri": "https://localhost:8080/",
          "height": 356
        }
      },
      "source": [
        "d=df.Education.value_counts().plot.bar()\n",
        "d.set_xlabel('Education')\n",
        "d.set_ylabel('Number of Applicants')"
      ],
      "execution_count": 0,
      "outputs": [
        {
          "output_type": "execute_result",
          "data": {
            "text/plain": [
              "Text(0, 0.5, 'Number of Applicants')"
            ]
          },
          "metadata": {
            "tags": []
          },
          "execution_count": 109
        },
        {
          "output_type": "display_data",
          "data": {
            "image/png": "[encoded data removed]",
            "text/plain": [
              "<Figure size 432x288 with 1 Axes>"
            ]
          },
          "metadata": {
            "tags": [],
            "needs_background": "light"
          }
        }
      ]
    },
    {
      "cell_type": "markdown",
      "metadata": {
        "id": "qpwG7UFXMCt1",
        "colab_type": "text"
      },
      "source": [
        "Observation: Graduate people apply for more loan than non-graduates."
      ]
    },
    {
      "cell_type": "code",
      "metadata": {
        "id": "eJDYOH3prM7U",
        "colab_type": "code",
        "outputId": "0d2af425-596f-4b9d-faa0-62df6f7de0f9",
        "colab": {
          "base_uri": "https://localhost:8080/",
          "height": 302
        }
      },
      "source": [
        "e=df.Self_Employed.value_counts().plot.bar()\n",
        "e.set_xlabel('Self_Employed')\n",
        "e.set_ylabel('Number of Applicants')"
      ],
      "execution_count": 0,
      "outputs": [
        {
          "output_type": "execute_result",
          "data": {
            "text/plain": [
              "Text(0, 0.5, 'Number of Applicants')"
            ]
          },
          "metadata": {
            "tags": []
          },
          "execution_count": 110
        },
        {
          "output_type": "display_data",
          "data": {
            "image/png": "[encoded data removed]",
            "text/plain": [
              "<Figure size 432x288 with 1 Axes>"
            ]
          },
          "metadata": {
            "tags": [],
            "needs_background": "light"
          }
        }
      ]
    },
    {
      "cell_type": "markdown",
      "metadata": {
        "id": "E-kypJJ6McWe",
        "colab_type": "text"
      },
      "source": [
        "Observation: those who aren't self employed will be given more loan almost 80-82 % that means they can pay easily as they have stable earning resources."
      ]
    },
    {
      "cell_type": "code",
      "metadata": {
        "id": "os-IeJAtrUb2",
        "colab_type": "code",
        "outputId": "e7550d99-8a30-4e50-c753-54bcf53cc652",
        "colab": {
          "base_uri": "https://localhost:8080/",
          "height": 341
        }
      },
      "source": [
        "f=df.Property_Area.value_counts().plot.bar()\n",
        "f.set_xlabel('Property_Area')\n",
        "f.set_ylabel('Number of Applicants')"
      ],
      "execution_count": 0,
      "outputs": [
        {
          "output_type": "execute_result",
          "data": {
            "text/plain": [
              "Text(0, 0.5, 'Number of Applicants')"
            ]
          },
          "metadata": {
            "tags": []
          },
          "execution_count": 111
        },
        {
          "output_type": "display_data",
          "data": {
            "image/png": "[encoded data removed]",
            "text/plain": [
              "<Figure size 432x288 with 1 Axes>"
            ]
          },
          "metadata": {
            "tags": [],
            "needs_background": "light"
          }
        }
      ]
    },
    {
      "cell_type": "markdown",
      "metadata": {
        "id": "RVHrxtHLM978",
        "colab_type": "text"
      },
      "source": [
        "Observation: There is not musch difference between the applicants having property in semiurban, urban and rural areas which is an asset for the applicant."
      ]
    },
    {
      "cell_type": "code",
      "metadata": {
        "id": "BSF0gcN6re1l",
        "colab_type": "code",
        "outputId": "efe460b5-298f-4e5c-e0dd-710a1e5e1a10",
        "colab": {
          "base_uri": "https://localhost:8080/",
          "height": 294
        }
      },
      "source": [
        "g=df.Loan_Status.value_counts().plot.bar()\n",
        "g.set_xlabel('Loan_Status')\n",
        "g.set_ylabel('Number of Applicants')"
      ],
      "execution_count": 0,
      "outputs": [
        {
          "output_type": "execute_result",
          "data": {
            "text/plain": [
              "Text(0, 0.5, 'Number of Applicants')"
            ]
          },
          "metadata": {
            "tags": []
          },
          "execution_count": 112
        },
        {
          "output_type": "display_data",
          "data": {
            "image/png": "[encoded data removed]",
            "text/plain": [
              "<Figure size 432x288 with 1 Axes>"
            ]
          },
          "metadata": {
            "tags": [],
            "needs_background": "light"
          }
        }
      ]
    },
    {
      "cell_type": "markdown",
      "metadata": {
        "id": "IMYV_umvNqHX",
        "colab_type": "text"
      },
      "source": [
        "Loan_Status is the target variable, so its univariate just tells whether how many applicants are getting loan or not"
      ]
    },
    {
      "cell_type": "markdown",
      "metadata": {
        "id": "9scUdPYirwa8",
        "colab_type": "text"
      },
      "source": [
        "**4. Perform Bi-variate Analysis among all Independent variables.Draw appropriate Plots , mention observations**"
      ]
    },
    {
      "cell_type": "code",
      "metadata": {
        "id": "Ix1nM-x4CSza",
        "colab_type": "code",
        "outputId": "6d02a736-891a-4e10-f6b7-4b3a0258e7e5",
        "colab": {
          "base_uri": "https://localhost:8080/",
          "height": 369
        }
      },
      "source": [
        "i=sns.FacetGrid(df,col='Gender',row='Married',palette=\"GnBu_d\",gridspec_kws={\"width_ratios\": [4, 4]}, height=2.5,aspect=2)\n",
        "i=i.map(plt.hist,\"ApplicantIncome\")"
      ],
      "execution_count": 0,
      "outputs": [
        {
          "output_type": "display_data",
          "data": {
            "image/png": "[encoded data removed]",
            "text/plain": [
              "<Figure size 720x360 with 4 Axes>"
            ]
          },
          "metadata": {
            "tags": [],
            "needs_background": "light"
          }
        }
      ]
    },
    {
      "cell_type": "markdown",
      "metadata": {
        "id": "gzmXkzzSOvAM",
        "colab_type": "text"
      },
      "source": [
        "Observation: Married Males have more income and it an be of less risk for the bank to give loans to married males. On the other hand, married females will be very risky to give loan as they have far less income and will be problematic during payback."
      ]
    },
    {
      "cell_type": "code",
      "metadata": {
        "id": "fSqQ-3vKPO4z",
        "colab_type": "code",
        "outputId": "24ad9ea0-59b7-4e8f-893c-096aa08e2e24",
        "colab": {
          "base_uri": "https://localhost:8080/",
          "height": 330
        }
      },
      "source": [
        "i=sns.FacetGrid(df,col='Dependents',row='Education', height=2.5,aspect=2)\n",
        "i=i.map(plt.hist,\"ApplicantIncome\")"
      ],
      "execution_count": 0,
      "outputs": [
        {
          "output_type": "display_data",
          "data": {
            "image/png": "[encoded data removed]",
            "text/plain": [
              "<Figure size 1440x360 with 8 Axes>"
            ]
          },
          "metadata": {
            "tags": [],
            "needs_background": "light"
          }
        }
      ]
    },
    {
      "cell_type": "markdown",
      "metadata": {
        "id": "EC-cQbz-P82t",
        "colab_type": "text"
      },
      "source": [
        "Observation: Independent Graduates have more income than the others, and hence they can be safe to give loans. While on the other hands, not graduates, with many dependencies have very less income and can be risky ot give loans as ti would raise a concerning issue while payback."
      ]
    },
    {
      "cell_type": "code",
      "metadata": {
        "id": "R2f1s8wgP7wx",
        "colab_type": "code",
        "outputId": "d9d7259d-92fc-4061-ab7f-bc72c642d2f8",
        "colab": {
          "base_uri": "https://localhost:8080/",
          "height": 549
        }
      },
      "source": [
        "i=sns.FacetGrid(df,col='Self_Employed',row='Property_Area',palette=\"GnBu_d\",gridspec_kws={\"width_ratios\": [4, 4]}, height=2.5,aspect=2)\n",
        "i=i.map(plt.hist,\"ApplicantIncome\")"
      ],
      "execution_count": 0,
      "outputs": [
        {
          "output_type": "display_data",
          "data": {
            "image/png": "[encoded data removed]",
            "text/plain": [
              "<Figure size 720x540 with 6 Axes>"
            ]
          },
          "metadata": {
            "tags": [],
            "needs_background": "light"
          }
        }
      ]
    },
    {
      "cell_type": "markdown",
      "metadata": {
        "id": "sq6aOqLiQsGl",
        "colab_type": "text"
      },
      "source": [
        "Observation: Applicants who are self employed having property in any area have very less income and can be risky to give loan and can be problematic during payback."
      ]
    },
    {
      "cell_type": "code",
      "metadata": {
        "id": "TNTVQTy9ROjL",
        "colab_type": "code",
        "outputId": "4d02d287-9f28-43cd-8789-759eabbb9b19",
        "colab": {
          "base_uri": "https://localhost:8080/",
          "height": 369
        }
      },
      "source": [
        "i=sns.FacetGrid(df,col='Self_Employed',row='Credit_History',palette=\"GnBu_d\",gridspec_kws={\"width_ratios\": [4, 4]}, height=2.5,aspect=2)\n",
        "i=i.map(plt.hist,\"ApplicantIncome\")"
      ],
      "execution_count": 0,
      "outputs": [
        {
          "output_type": "display_data",
          "data": {
            "image/png": "[encoded data removed]",
            "text/plain": [
              "<Figure size 720x360 with 4 Axes>"
            ]
          },
          "metadata": {
            "tags": [],
            "needs_background": "light"
          }
        }
      ]
    },
    {
      "cell_type": "markdown",
      "metadata": {
        "id": "tkVvobyFRNt8",
        "colab_type": "text"
      },
      "source": [
        "Observation: =Credit_History and Self_Employed are not related at all."
      ]
    },
    {
      "cell_type": "markdown",
      "metadata": {
        "id": "YZqOKVZK26Jb",
        "colab_type": "text"
      },
      "source": [
        "**5. Perform Bi-variate Analysis between Target Variable and each Independent variable. Use suitable plot , mention observations,trends etc**"
      ]
    },
    {
      "cell_type": "code",
      "metadata": {
        "id": "XY8GzDGz29Q9",
        "colab_type": "code",
        "outputId": "9689550c-ede3-45d6-eef6-d0f350805939",
        "colab": {
          "base_uri": "https://localhost:8080/",
          "height": 225
        }
      },
      "source": [
        "h=sns.FacetGrid(df,col='Gender',col_wrap=4,height=3)\n",
        "h=h.map(plt.hist,'Loan_Status')"
      ],
      "execution_count": 0,
      "outputs": [
        {
          "output_type": "display_data",
          "data": {
            "image/png": "[encoded data removed]",
            "text/plain": [
              "<Figure size 864x216 with 2 Axes>"
            ]
          },
          "metadata": {
            "tags": [],
            "needs_background": "light"
          }
        }
      ]
    },
    {
      "cell_type": "markdown",
      "metadata": {
        "id": "3B6j91rBSSJ6",
        "colab_type": "text"
      },
      "source": [
        "Compared to the total applied males, they are rejected more for the loans.\n",
        "Compared to the total applied females, they are accepted more for the loans."
      ]
    },
    {
      "cell_type": "code",
      "metadata": {
        "id": "-ttDDIke41-r",
        "colab_type": "code",
        "outputId": "6891578b-5f8d-458f-92cc-34b93d9d5943",
        "colab": {
          "base_uri": "https://localhost:8080/",
          "height": 225
        }
      },
      "source": [
        "h=sns.FacetGrid(df,col='Married',col_wrap=4,height=3)\n",
        "h=h.map(plt.hist,'Loan_Status')"
      ],
      "execution_count": 0,
      "outputs": [
        {
          "output_type": "display_data",
          "data": {
            "image/png": "[encoded data removed]",
            "text/plain": [
              "<Figure size 864x216 with 2 Axes>"
            ]
          },
          "metadata": {
            "tags": [],
            "needs_background": "light"
          }
        }
      ]
    },
    {
      "cell_type": "markdown",
      "metadata": {
        "id": "lwxqJDkbSrUE",
        "colab_type": "text"
      },
      "source": [
        "Loans for the married applicant are accepted more."
      ]
    },
    {
      "cell_type": "code",
      "metadata": {
        "id": "BrygJIOr5DG7",
        "colab_type": "code",
        "outputId": "9fd33a33-bd9d-47d6-f6bf-00ac7f0236e4",
        "colab": {
          "base_uri": "https://localhost:8080/",
          "height": 225
        }
      },
      "source": [
        "h=sns.FacetGrid(df,col='Dependents',col_wrap=4,height=3)\n",
        "h=h.map(plt.hist,'Loan_Status')"
      ],
      "execution_count": 0,
      "outputs": [
        {
          "output_type": "display_data",
          "data": {
            "image/png": "[encoded data removed]",
            "text/plain": [
              "<Figure size 864x216 with 4 Axes>"
            ]
          },
          "metadata": {
            "tags": [],
            "needs_background": "light"
          }
        }
      ]
    },
    {
      "cell_type": "markdown",
      "metadata": {
        "id": "FFIlBBSHSwOM",
        "colab_type": "text"
      },
      "source": [
        "Those having no dependency at all are rejected for having the loan."
      ]
    },
    {
      "cell_type": "code",
      "metadata": {
        "id": "vTTTEaE35HhA",
        "colab_type": "code",
        "outputId": "292a145d-18e5-4636-dd25-f9ec3322f442",
        "colab": {
          "base_uri": "https://localhost:8080/",
          "height": 225
        }
      },
      "source": [
        "h=sns.FacetGrid(df,col='Education',col_wrap=4,height=3)\n",
        "h=h.map(plt.hist,'Loan_Status')"
      ],
      "execution_count": 0,
      "outputs": [
        {
          "output_type": "display_data",
          "data": {
            "image/png": "[encoded data removed]",
            "text/plain": [
              "<Figure size 864x216 with 2 Axes>"
            ]
          },
          "metadata": {
            "tags": [],
            "needs_background": "light"
          }
        }
      ]
    },
    {
      "cell_type": "markdown",
      "metadata": {
        "id": "AIinMSecTBh_",
        "colab_type": "text"
      },
      "source": [
        "Graduates loan application is approved moe caompared to the non-graduates."
      ]
    },
    {
      "cell_type": "code",
      "metadata": {
        "id": "RGKq_ssn5NTK",
        "colab_type": "code",
        "outputId": "562fabdf-83c1-4145-e51e-7a9ea98cf70d",
        "colab": {
          "base_uri": "https://localhost:8080/",
          "height": 225
        }
      },
      "source": [
        "h=sns.FacetGrid(df,col='Self_Employed',col_wrap=4,height=3)\n",
        "h=h.map(plt.hist,'Loan_Status')"
      ],
      "execution_count": 0,
      "outputs": [
        {
          "output_type": "display_data",
          "data": {
            "image/png": "[encoded data removed]",
            "text/plain": [
              "<Figure size 864x216 with 2 Axes>"
            ]
          },
          "metadata": {
            "tags": [],
            "needs_background": "light"
          }
        }
      ]
    },
    {
      "cell_type": "markdown",
      "metadata": {
        "id": "9okiGP-ATPgx",
        "colab_type": "text"
      },
      "source": [
        "Self_employed loan requests accepted more."
      ]
    },
    {
      "cell_type": "code",
      "metadata": {
        "id": "_t94GDCn5j0O",
        "colab_type": "code",
        "outputId": "484ac859-a88f-4c36-f02a-82dacd9fa382",
        "colab": {
          "base_uri": "https://localhost:8080/",
          "height": 297
        }
      },
      "source": [
        "df.plot.scatter(x='Loan_Status',y='ApplicantIncome')"
      ],
      "execution_count": 0,
      "outputs": [
        {
          "output_type": "execute_result",
          "data": {
            "text/plain": [
              "<matplotlib.axes._subplots.AxesSubplot at 0x7fa0e21564e0>"
            ]
          },
          "metadata": {
            "tags": []
          },
          "execution_count": 47
        },
        {
          "output_type": "display_data",
          "data": {
            "image/png": "[encoded data removed]",
            "text/plain": [
              "<Figure size 432x288 with 1 Axes>"
            ]
          },
          "metadata": {
            "tags": [],
            "needs_background": "light"
          }
        }
      ]
    },
    {
      "cell_type": "code",
      "metadata": {
        "id": "Efe3EtfD6Knt",
        "colab_type": "code",
        "outputId": "0faef1e3-bd59-4dfe-a4ee-a351f08433e2",
        "colab": {
          "base_uri": "https://localhost:8080/",
          "height": 297
        }
      },
      "source": [
        "df.plot.scatter(x='Loan_Status',y='CoapplicantIncome')"
      ],
      "execution_count": 0,
      "outputs": [
        {
          "output_type": "execute_result",
          "data": {
            "text/plain": [
              "<matplotlib.axes._subplots.AxesSubplot at 0x7f3140298208>"
            ]
          },
          "metadata": {
            "tags": []
          },
          "execution_count": 167
        },
        {
          "output_type": "display_data",
          "data": {
            "image/png": "[encoded data removed]",
            "text/plain": [
              "<Figure size 432x288 with 1 Axes>"
            ]
          },
          "metadata": {
            "tags": [],
            "needs_background": "light"
          }
        }
      ]
    },
    {
      "cell_type": "code",
      "metadata": {
        "id": "ZwW22c1m8QVl",
        "colab_type": "code",
        "outputId": "bbbfc377-5e80-4910-a43c-0babd3655364",
        "colab": {
          "base_uri": "https://localhost:8080/",
          "height": 297
        }
      },
      "source": [
        "print(df.plot.scatter(x='Loan_Status',y='LoanAmount'))"
      ],
      "execution_count": 0,
      "outputs": [
        {
          "output_type": "stream",
          "text": [
            "AxesSubplot(0.125,0.125;0.775x0.755)\n"
          ],
          "name": "stdout"
        },
        {
          "output_type": "display_data",
          "data": {
            "image/png": "[encoded data removed]",
            "text/plain": [
              "<Figure size 432x288 with 1 Axes>"
            ]
          },
          "metadata": {
            "tags": [],
            "needs_background": "light"
          }
        }
      ]
    },
    {
      "cell_type": "code",
      "metadata": {
        "id": "5o6fVFZ68Rc0",
        "colab_type": "code",
        "outputId": "c0230d14-10fc-4fc1-d772-3a988c030b92",
        "colab": {
          "base_uri": "https://localhost:8080/",
          "height": 657
        }
      },
      "source": [
        "h=sns.FacetGrid(df,col='Loan_Amount_Term',col_wrap=4,height=3)\n",
        "h=h.map(plt.hist,'Loan_Status')"
      ],
      "execution_count": 0,
      "outputs": [
        {
          "output_type": "display_data",
          "data": {
            "image/png": "[encoded data removed]",
            "text/plain": [
              "<Figure size 864x648 with 10 Axes>"
            ]
          },
          "metadata": {
            "tags": [],
            "needs_background": "light"
          }
        }
      ]
    },
    {
      "cell_type": "markdown",
      "metadata": {
        "id": "_4uqdTPZTs6R",
        "colab_type": "text"
      },
      "source": [
        "Applicant having loan amount term= 360 are rejected as it'll be a long term credibility for the bank."
      ]
    },
    {
      "cell_type": "code",
      "metadata": {
        "id": "WlYjT-sm80Bm",
        "colab_type": "code",
        "outputId": "f1eb9125-cbfe-4bed-ad06-f8d7c2fc47c5",
        "colab": {
          "base_uri": "https://localhost:8080/",
          "height": 225
        }
      },
      "source": [
        "h=sns.FacetGrid(df,col='Credit_History',col_wrap=4,height=3)\n",
        "h=h.map(plt.hist,'Loan_Status')"
      ],
      "execution_count": 0,
      "outputs": [
        {
          "output_type": "display_data",
          "data": {
            "image/png": "[encoded data removed]",
            "text/plain": [
              "<Figure size 864x216 with 2 Axes>"
            ]
          },
          "metadata": {
            "tags": [],
            "needs_background": "light"
          }
        }
      ]
    },
    {
      "cell_type": "markdown",
      "metadata": {
        "id": "7oL4zfwbT34I",
        "colab_type": "text"
      },
      "source": [
        "Applicants with a credit history will be granted loan."
      ]
    },
    {
      "cell_type": "code",
      "metadata": {
        "id": "Vi8Wd-pN857n",
        "colab_type": "code",
        "outputId": "89b60364-9adc-477e-e521-c03d78de8dd9",
        "colab": {
          "base_uri": "https://localhost:8080/",
          "height": 225
        }
      },
      "source": [
        "h=sns.FacetGrid(df,col='Property_Area',col_wrap=4,height=3)\n",
        "h=h.map(plt.hist,'Loan_Status')"
      ],
      "execution_count": 0,
      "outputs": [
        {
          "output_type": "display_data",
          "data": {
            "image/png": "[encoded data removed]",
            "text/plain": [
              "<Figure size 864x216 with 3 Axes>"
            ]
          },
          "metadata": {
            "tags": [],
            "needs_background": "light"
          }
        }
      ]
    },
    {
      "cell_type": "markdown",
      "metadata": {
        "id": "I2Sc_9OMUB4Y",
        "colab_type": "text"
      },
      "source": [
        "Applicants having land in semi urban area will be granted more loan."
      ]
    },
    {
      "cell_type": "markdown",
      "metadata": {
        "id": "Hz4yHLdfUK7-",
        "colab_type": "text"
      },
      "source": [
        "**6. How is the class distribution (Y/N) in Label(Target) Variable ?**"
      ]
    },
    {
      "cell_type": "code",
      "metadata": {
        "id": "STKVTU64UQQX",
        "colab_type": "code",
        "outputId": "a9708100-b756-4de8-c68e-8571cc38be11",
        "colab": {
          "base_uri": "https://localhost:8080/",
          "height": 137
        }
      },
      "source": [
        "df_LS=df.groupby(df.Loan_Status).count()\n",
        "df_LS"
      ],
      "execution_count": 0,
      "outputs": [
        {
          "output_type": "execute_result",
          "data": {
            "text/html": [
              "<div>\n",
              "<style scoped>\n",
              "    .dataframe tbody tr th:only-of-type {\n",
              "        vertical-align: middle;\n",
              "    }\n",
              "\n",
              "    .dataframe tbody tr th {\n",
              "        vertical-align: top;\n",
              "    }\n",
              "\n",
              "    .dataframe thead th {\n",
              "        text-align: right;\n",
              "    }\n",
              "</style>\n",
              "<table border=\"1\" class=\"dataframe\">\n",
              "  <thead>\n",
              "    <tr style=\"text-align: right;\">\n",
              "      <th></th>\n",
              "      <th>Gender</th>\n",
              "      <th>Married</th>\n",
              "      <th>Dependents</th>\n",
              "      <th>Education</th>\n",
              "      <th>Self_Employed</th>\n",
              "      <th>ApplicantIncome</th>\n",
              "      <th>CoapplicantIncome</th>\n",
              "      <th>LoanAmount</th>\n",
              "      <th>Loan_Amount_Term</th>\n",
              "      <th>Credit_History</th>\n",
              "      <th>Property_Area</th>\n",
              "    </tr>\n",
              "    <tr>\n",
              "      <th>Loan_Status</th>\n",
              "      <th></th>\n",
              "      <th></th>\n",
              "      <th></th>\n",
              "      <th></th>\n",
              "      <th></th>\n",
              "      <th></th>\n",
              "      <th></th>\n",
              "      <th></th>\n",
              "      <th></th>\n",
              "      <th></th>\n",
              "      <th></th>\n",
              "    </tr>\n",
              "  </thead>\n",
              "  <tbody>\n",
              "    <tr>\n",
              "      <th>N</th>\n",
              "      <td>192</td>\n",
              "      <td>192</td>\n",
              "      <td>186</td>\n",
              "      <td>192</td>\n",
              "      <td>183</td>\n",
              "      <td>192</td>\n",
              "      <td>192</td>\n",
              "      <td>181</td>\n",
              "      <td>186</td>\n",
              "      <td>192</td>\n",
              "      <td>192</td>\n",
              "    </tr>\n",
              "    <tr>\n",
              "      <th>Y</th>\n",
              "      <td>422</td>\n",
              "      <td>419</td>\n",
              "      <td>413</td>\n",
              "      <td>422</td>\n",
              "      <td>399</td>\n",
              "      <td>422</td>\n",
              "      <td>422</td>\n",
              "      <td>411</td>\n",
              "      <td>414</td>\n",
              "      <td>422</td>\n",
              "      <td>422</td>\n",
              "    </tr>\n",
              "  </tbody>\n",
              "</table>\n",
              "</div>"
            ],
            "text/plain": [
              "             Gender  Married  ...  Credit_History  Property_Area\n",
              "Loan_Status                   ...                               \n",
              "N               192      192  ...             192            192\n",
              "Y               422      419  ...             422            422\n",
              "\n",
              "[2 rows x 11 columns]"
            ]
          },
          "metadata": {
            "tags": []
          },
          "execution_count": 82
        }
      ]
    },
    {
      "cell_type": "code",
      "metadata": {
        "id": "CIpo3hK8kpMb",
        "colab_type": "code",
        "outputId": "3106e042-9658-472c-9017-d669689d9a5f",
        "colab": {
          "base_uri": "https://localhost:8080/",
          "height": 457
        }
      },
      "source": [
        "df_LS.plot.bar(figsize=[5,7])"
      ],
      "execution_count": 0,
      "outputs": [
        {
          "output_type": "execute_result",
          "data": {
            "text/plain": [
              "<matplotlib.axes._subplots.AxesSubplot at 0x7fa0e0ce9940>"
            ]
          },
          "metadata": {
            "tags": []
          },
          "execution_count": 86
        },
        {
          "output_type": "display_data",
          "data": {
            "image/png": "[encoded data removed]",
            "text/plain": [
              "<Figure size 360x504 with 1 Axes>"
            ]
          },
          "metadata": {
            "tags": [],
            "needs_background": "light"
          }
        }
      ]
    },
    {
      "cell_type": "markdown",
      "metadata": {
        "id": "cR_d74MGtG06",
        "colab_type": "text"
      },
      "source": [
        "**7. Identify the Independent Variables that have missing values.**\n",
        "\n"
      ]
    },
    {
      "cell_type": "markdown",
      "metadata": {
        "id": "R2AdAn_cvTL8",
        "colab_type": "text"
      },
      "source": [
        "There are many ways to identify the independent variables. One of them are:"
      ]
    },
    {
      "cell_type": "markdown",
      "metadata": {
        "id": "gsa5-pxOvnvJ",
        "colab_type": "text"
      },
      "source": [
        "1. Missing data heatmap"
      ]
    },
    {
      "cell_type": "code",
      "metadata": {
        "id": "W7HATDCEt5y8",
        "colab_type": "code",
        "outputId": "6909ad0c-ce81-463f-e8e5-1176dfc43c73",
        "colab": {
          "base_uri": "https://localhost:8080/",
          "height": 373
        }
      },
      "source": [
        "cols = df.columns[:11]\n",
        "colours = ['#F08080', '#000000'] # specify the colours - black is missing. pink is not missing.\n",
        "sns.heatmap(df[cols].isnull(), cmap=sns.color_palette(colours))"
      ],
      "execution_count": 0,
      "outputs": [
        {
          "output_type": "execute_result",
          "data": {
            "text/plain": [
              "<matplotlib.axes._subplots.AxesSubplot at 0x7fa0e23ad7f0>"
            ]
          },
          "metadata": {
            "tags": []
          },
          "execution_count": 62
        },
        {
          "output_type": "display_data",
          "data": {
            "image/png": "[encoded data removed]",
            "text/plain": [
              "<Figure size 432x288 with 2 Axes>"
            ]
          },
          "metadata": {
            "tags": [],
            "needs_background": "light"
          }
        }
      ]
    },
    {
      "cell_type": "markdown",
      "metadata": {
        "id": "ia_IqFLpuODh",
        "colab_type": "text"
      },
      "source": [
        "From the above heatmap we can see that Gender, Married, Dependents, Self_Employed, LoanAmount, Loan_Amount_Term, Credit_History has missing values."
      ]
    },
    {
      "cell_type": "markdown",
      "metadata": {
        "id": "pB_uUFX1uqxq",
        "colab_type": "text"
      },
      "source": [
        "**8. Handle missing values appropriately , explain the technique applied for each case**"
      ]
    },
    {
      "cell_type": "markdown",
      "metadata": {
        "id": "OHDAozIWVV3t",
        "colab_type": "text"
      },
      "source": [
        "From the above heatmap, we can see that, Credit_History have so many missing values, so here, I'm handling the missing values in the Credit_history by replacing it with the median."
      ]
    },
    {
      "cell_type": "markdown",
      "metadata": {
        "id": "hlqagiCxzdbo",
        "colab_type": "text"
      },
      "source": [
        "Impute the observation\n",
        "replace missing values with the median"
      ]
    },
    {
      "cell_type": "code",
      "metadata": {
        "id": "Uhb3XbH4zg76",
        "colab_type": "code",
        "outputId": "c0a2a74c-e605-4600-c499-64a3a6f0a1fd",
        "colab": {
          "base_uri": "https://localhost:8080/",
          "height": 1000
        }
      },
      "source": [
        "for v in df['Credit_History']:\n",
        "    print(v)\n",
        "med = df['Credit_History'].median()\n",
        "print(\"Median\")\n",
        "print(med)\n",
        "df['Credit_History'] = df['Credit_History'].fillna(med)\n",
        "print(\"values after imputing\")\n",
        "for k in df['Credit_History']:\n",
        "    print(k)"
      ],
      "execution_count": 0,
      "outputs": [
        {
          "output_type": "stream",
          "text": [
            "1.0\n",
            "1.0\n",
            "1.0\n",
            "1.0\n",
            "1.0\n",
            "1.0\n",
            "1.0\n",
            "0.0\n",
            "1.0\n",
            "1.0\n",
            "1.0\n",
            "1.0\n",
            "1.0\n",
            "1.0\n",
            "1.0\n",
            "1.0\n",
            "nan\n",
            "0.0\n",
            "1.0\n",
            "1.0\n",
            "0.0\n",
            "1.0\n",
            "0.0\n",
            "0.0\n",
            "nan\n",
            "1.0\n",
            "1.0\n",
            "1.0\n",
            "1.0\n",
            "1.0\n",
            "nan\n",
            "1.0\n",
            "1.0\n",
            "1.0\n",
            "1.0\n",
            "1.0\n",
            "0.0\n",
            "1.0\n",
            "1.0\n",
            "1.0\n",
            "1.0\n",
            "1.0\n",
            "nan\n",
            "1.0\n",
            "1.0\n",
            "1.0\n",
            "1.0\n",
            "1.0\n",
            "0.0\n",
            "1.0\n",
            "1.0\n",
            "1.0\n",
            "1.0\n",
            "1.0\n",
            "0.0\n",
            "1.0\n",
            "1.0\n",
            "1.0\n",
            "1.0\n",
            "1.0\n",
            "1.0\n",
            "1.0\n",
            "0.0\n",
            "0.0\n",
            "0.0\n",
            "1.0\n",
            "0.0\n",
            "1.0\n",
            "1.0\n",
            "0.0\n",
            "1.0\n",
            "1.0\n",
            "1.0\n",
            "0.0\n",
            "1.0\n",
            "1.0\n",
            "1.0\n",
            "1.0\n",
            "0.0\n",
            "nan\n",
            "1.0\n",
            "1.0\n",
            "1.0\n",
            "nan\n",
            "1.0\n",
            "1.0\n",
            "nan\n",
            "1.0\n",
            "1.0\n",
            "1.0\n",
            "1.0\n",
            "1.0\n",
            "1.0\n",
            "1.0\n",
            "1.0\n",
            "nan\n",
            "1.0\n",
            "1.0\n",
            "1.0\n",
            "1.0\n",
            "1.0\n",
            "1.0\n",
            "1.0\n",
            "1.0\n",
            "1.0\n",
            "1.0\n",
            "1.0\n",
            "1.0\n",
            "0.0\n",
            "1.0\n",
            "1.0\n",
            "1.0\n",
            "0.0\n",
            "1.0\n",
            "1.0\n",
            "1.0\n",
            "1.0\n",
            "nan\n",
            "1.0\n",
            "1.0\n",
            "1.0\n",
            "1.0\n",
            "0.0\n",
            "1.0\n",
            "1.0\n",
            "nan\n",
            "1.0\n",
            "1.0\n",
            "0.0\n",
            "nan\n",
            "nan\n",
            "1.0\n",
            "1.0\n",
            "1.0\n",
            "1.0\n",
            "1.0\n",
            "1.0\n",
            "1.0\n",
            "0.0\n",
            "1.0\n",
            "1.0\n",
            "1.0\n",
            "1.0\n",
            "1.0\n",
            "1.0\n",
            "1.0\n",
            "1.0\n",
            "1.0\n",
            "1.0\n",
            "1.0\n",
            "0.0\n",
            "1.0\n",
            "1.0\n",
            "1.0\n",
            "1.0\n",
            "0.0\n",
            "nan\n",
            "1.0\n",
            "1.0\n",
            "1.0\n",
            "1.0\n",
            "1.0\n",
            "0.0\n",
            "1.0\n",
            "1.0\n",
            "1.0\n",
            "1.0\n",
            "1.0\n",
            "0.0\n",
            "1.0\n",
            "1.0\n",
            "1.0\n",
            "1.0\n",
            "1.0\n",
            "1.0\n",
            "1.0\n",
            "1.0\n",
            "0.0\n",
            "1.0\n",
            "0.0\n",
            "0.0\n",
            "nan\n",
            "1.0\n",
            "1.0\n",
            "1.0\n",
            "1.0\n",
            "0.0\n",
            "nan\n",
            "1.0\n",
            "1.0\n",
            "1.0\n",
            "1.0\n",
            "1.0\n",
            "1.0\n",
            "1.0\n",
            "1.0\n",
            "1.0\n",
            "1.0\n",
            "nan\n",
            "1.0\n",
            "1.0\n",
            "0.0\n",
            "1.0\n",
            "1.0\n",
            "1.0\n",
            "1.0\n",
            "1.0\n",
            "1.0\n",
            "1.0\n",
            "1.0\n",
            "1.0\n",
            "0.0\n",
            "1.0\n",
            "1.0\n",
            "1.0\n",
            "1.0\n",
            "1.0\n",
            "1.0\n",
            "0.0\n",
            "nan\n",
            "0.0\n",
            "1.0\n",
            "1.0\n",
            "1.0\n",
            "1.0\n",
            "1.0\n",
            "1.0\n",
            "1.0\n",
            "1.0\n",
            "1.0\n",
            "1.0\n",
            "1.0\n",
            "1.0\n",
            "1.0\n",
            "1.0\n",
            "1.0\n",
            "nan\n",
            "nan\n",
            "1.0\n",
            "1.0\n",
            "1.0\n",
            "1.0\n",
            "1.0\n",
            "1.0\n",
            "1.0\n",
            "1.0\n",
            "1.0\n",
            "1.0\n",
            "1.0\n",
            "1.0\n",
            "0.0\n",
            "1.0\n",
            "1.0\n",
            "1.0\n",
            "0.0\n",
            "1.0\n",
            "0.0\n",
            "1.0\n",
            "1.0\n",
            "nan\n",
            "nan\n",
            "1.0\n",
            "1.0\n",
            "1.0\n",
            "1.0\n",
            "1.0\n",
            "1.0\n",
            "0.0\n",
            "1.0\n",
            "1.0\n",
            "1.0\n",
            "1.0\n",
            "1.0\n",
            "1.0\n",
            "1.0\n",
            "1.0\n",
            "1.0\n",
            "1.0\n",
            "1.0\n",
            "nan\n",
            "0.0\n",
            "1.0\n",
            "1.0\n",
            "1.0\n",
            "1.0\n",
            "1.0\n",
            "1.0\n",
            "1.0\n",
            "1.0\n",
            "1.0\n",
            "1.0\n",
            "0.0\n",
            "1.0\n",
            "0.0\n",
            "1.0\n",
            "1.0\n",
            "1.0\n",
            "1.0\n",
            "1.0\n",
            "1.0\n",
            "0.0\n",
            "1.0\n",
            "1.0\n",
            "1.0\n",
            "1.0\n",
            "1.0\n",
            "1.0\n",
            "0.0\n",
            "1.0\n",
            "nan\n",
            "1.0\n",
            "1.0\n",
            "1.0\n",
            "nan\n",
            "1.0\n",
            "1.0\n",
            "1.0\n",
            "nan\n",
            "nan\n",
            "1.0\n",
            "1.0\n",
            "1.0\n",
            "1.0\n",
            "nan\n",
            "1.0\n",
            "0.0\n",
            "0.0\n",
            "1.0\n",
            "1.0\n",
            "1.0\n",
            "1.0\n",
            "1.0\n",
            "1.0\n",
            "1.0\n",
            "1.0\n",
            "1.0\n",
            "1.0\n",
            "1.0\n",
            "0.0\n",
            "1.0\n",
            "1.0\n",
            "1.0\n",
            "1.0\n",
            "1.0\n",
            "1.0\n",
            "1.0\n",
            "0.0\n",
            "1.0\n",
            "nan\n",
            "1.0\n",
            "1.0\n",
            "1.0\n",
            "1.0\n",
            "0.0\n",
            "1.0\n",
            "1.0\n",
            "1.0\n",
            "1.0\n",
            "0.0\n",
            "1.0\n",
            "1.0\n",
            "1.0\n",
            "1.0\n",
            "nan\n",
            "1.0\n",
            "1.0\n",
            "1.0\n",
            "0.0\n",
            "1.0\n",
            "1.0\n",
            "1.0\n",
            "1.0\n",
            "1.0\n",
            "0.0\n",
            "1.0\n",
            "1.0\n",
            "1.0\n",
            "nan\n",
            "1.0\n",
            "1.0\n",
            "1.0\n",
            "1.0\n",
            "1.0\n",
            "1.0\n",
            "1.0\n",
            "1.0\n",
            "1.0\n",
            "0.0\n",
            "1.0\n",
            "1.0\n",
            "1.0\n",
            "1.0\n",
            "nan\n",
            "1.0\n",
            "1.0\n",
            "nan\n",
            "0.0\n",
            "1.0\n",
            "1.0\n",
            "0.0\n",
            "0.0\n",
            "1.0\n",
            "1.0\n",
            "1.0\n",
            "1.0\n",
            "1.0\n",
            "1.0\n",
            "1.0\n",
            "0.0\n",
            "0.0\n",
            "1.0\n",
            "nan\n",
            "0.0\n",
            "1.0\n",
            "0.0\n",
            "1.0\n",
            "1.0\n",
            "1.0\n",
            "1.0\n",
            "1.0\n",
            "1.0\n",
            "0.0\n",
            "1.0\n",
            "0.0\n",
            "1.0\n",
            "1.0\n",
            "1.0\n",
            "1.0\n",
            "1.0\n",
            "1.0\n",
            "1.0\n",
            "0.0\n",
            "1.0\n",
            "1.0\n",
            "1.0\n",
            "1.0\n",
            "1.0\n",
            "1.0\n",
            "0.0\n",
            "1.0\n",
            "1.0\n",
            "1.0\n",
            "1.0\n",
            "1.0\n",
            "nan\n",
            "1.0\n",
            "1.0\n",
            "1.0\n",
            "0.0\n",
            "nan\n",
            "0.0\n",
            "nan\n",
            "0.0\n",
            "0.0\n",
            "1.0\n",
            "1.0\n",
            "1.0\n",
            "1.0\n",
            "1.0\n",
            "1.0\n",
            "nan\n",
            "1.0\n",
            "1.0\n",
            "1.0\n",
            "0.0\n",
            "1.0\n",
            "0.0\n",
            "1.0\n",
            "1.0\n",
            "1.0\n",
            "1.0\n",
            "0.0\n",
            "1.0\n",
            "nan\n",
            "1.0\n",
            "1.0\n",
            "1.0\n",
            "0.0\n",
            "1.0\n",
            "1.0\n",
            "1.0\n",
            "1.0\n",
            "1.0\n",
            "1.0\n",
            "1.0\n",
            "1.0\n",
            "0.0\n",
            "1.0\n",
            "1.0\n",
            "1.0\n",
            "nan\n",
            "nan\n",
            "1.0\n",
            "1.0\n",
            "0.0\n",
            "1.0\n",
            "1.0\n",
            "nan\n",
            "1.0\n",
            "0.0\n",
            "1.0\n",
            "1.0\n",
            "1.0\n",
            "nan\n",
            "1.0\n",
            "1.0\n",
            "nan\n",
            "1.0\n",
            "1.0\n",
            "1.0\n",
            "1.0\n",
            "1.0\n",
            "1.0\n",
            "1.0\n",
            "1.0\n",
            "1.0\n",
            "1.0\n",
            "0.0\n",
            "1.0\n",
            "1.0\n",
            "1.0\n",
            "1.0\n",
            "1.0\n",
            "1.0\n",
            "1.0\n",
            "1.0\n",
            "1.0\n",
            "0.0\n",
            "1.0\n",
            "1.0\n",
            "nan\n",
            "1.0\n",
            "0.0\n",
            "nan\n",
            "1.0\n",
            "1.0\n",
            "1.0\n",
            "1.0\n",
            "1.0\n",
            "1.0\n",
            "1.0\n",
            "0.0\n",
            "1.0\n",
            "1.0\n",
            "nan\n",
            "1.0\n",
            "1.0\n",
            "1.0\n",
            "0.0\n",
            "1.0\n",
            "0.0\n",
            "1.0\n",
            "1.0\n",
            "0.0\n",
            "0.0\n",
            "1.0\n",
            "nan\n",
            "1.0\n",
            "1.0\n",
            "1.0\n",
            "1.0\n",
            "1.0\n",
            "1.0\n",
            "1.0\n",
            "0.0\n",
            "nan\n",
            "1.0\n",
            "0.0\n",
            "1.0\n",
            "0.0\n",
            "1.0\n",
            "0.0\n",
            "1.0\n",
            "1.0\n",
            "1.0\n",
            "1.0\n",
            "0.0\n",
            "1.0\n",
            "1.0\n",
            "1.0\n",
            "1.0\n",
            "1.0\n",
            "1.0\n",
            "nan\n",
            "0.0\n",
            "1.0\n",
            "1.0\n",
            "1.0\n",
            "1.0\n",
            "0.0\n",
            "1.0\n",
            "1.0\n",
            "1.0\n",
            "1.0\n",
            "1.0\n",
            "1.0\n",
            "1.0\n",
            "0.0\n",
            "1.0\n",
            "1.0\n",
            "nan\n",
            "1.0\n",
            "1.0\n",
            "1.0\n",
            "1.0\n",
            "1.0\n",
            "1.0\n",
            "1.0\n",
            "1.0\n",
            "1.0\n",
            "1.0\n",
            "1.0\n",
            "1.0\n",
            "0.0\n",
            "Median\n",
            "1.0\n",
            "values after imputing\n",
            "1.0\n",
            "1.0\n",
            "1.0\n",
            "1.0\n",
            "1.0\n",
            "1.0\n",
            "1.0\n",
            "0.0\n",
            "1.0\n",
            "1.0\n",
            "1.0\n",
            "1.0\n",
            "1.0\n",
            "1.0\n",
            "1.0\n",
            "1.0\n",
            "1.0\n",
            "0.0\n",
            "1.0\n",
            "1.0\n",
            "0.0\n",
            "1.0\n",
            "0.0\n",
            "0.0\n",
            "1.0\n",
            "1.0\n",
            "1.0\n",
            "1.0\n",
            "1.0\n",
            "1.0\n",
            "1.0\n",
            "1.0\n",
            "1.0\n",
            "1.0\n",
            "1.0\n",
            "1.0\n",
            "0.0\n",
            "1.0\n",
            "1.0\n",
            "1.0\n",
            "1.0\n",
            "1.0\n",
            "1.0\n",
            "1.0\n",
            "1.0\n",
            "1.0\n",
            "1.0\n",
            "1.0\n",
            "0.0\n",
            "1.0\n",
            "1.0\n",
            "1.0\n",
            "1.0\n",
            "1.0\n",
            "0.0\n",
            "1.0\n",
            "1.0\n",
            "1.0\n",
            "1.0\n",
            "1.0\n",
            "1.0\n",
            "1.0\n",
            "0.0\n",
            "0.0\n",
            "0.0\n",
            "1.0\n",
            "0.0\n",
            "1.0\n",
            "1.0\n",
            "0.0\n",
            "1.0\n",
            "1.0\n",
            "1.0\n",
            "0.0\n",
            "1.0\n",
            "1.0\n",
            "1.0\n",
            "1.0\n",
            "0.0\n",
            "1.0\n",
            "1.0\n",
            "1.0\n",
            "1.0\n",
            "1.0\n",
            "1.0\n",
            "1.0\n",
            "1.0\n",
            "1.0\n",
            "1.0\n",
            "1.0\n",
            "1.0\n",
            "1.0\n",
            "1.0\n",
            "1.0\n",
            "1.0\n",
            "1.0\n",
            "1.0\n",
            "1.0\n",
            "1.0\n",
            "1.0\n",
            "1.0\n",
            "1.0\n",
            "1.0\n",
            "1.0\n",
            "1.0\n",
            "1.0\n",
            "1.0\n",
            "1.0\n",
            "0.0\n",
            "1.0\n",
            "1.0\n",
            "1.0\n",
            "0.0\n",
            "1.0\n",
            "1.0\n",
            "1.0\n",
            "1.0\n",
            "1.0\n",
            "1.0\n",
            "1.0\n",
            "1.0\n",
            "1.0\n",
            "0.0\n",
            "1.0\n",
            "1.0\n",
            "1.0\n",
            "1.0\n",
            "1.0\n",
            "0.0\n",
            "1.0\n",
            "1.0\n",
            "1.0\n",
            "1.0\n",
            "1.0\n",
            "1.0\n",
            "1.0\n",
            "1.0\n",
            "1.0\n",
            "0.0\n",
            "1.0\n",
            "1.0\n",
            "1.0\n",
            "1.0\n",
            "1.0\n",
            "1.0\n",
            "1.0\n",
            "1.0\n",
            "1.0\n",
            "1.0\n",
            "1.0\n",
            "0.0\n",
            "1.0\n",
            "1.0\n",
            "1.0\n",
            "1.0\n",
            "0.0\n",
            "1.0\n",
            "1.0\n",
            "1.0\n",
            "1.0\n",
            "1.0\n",
            "1.0\n",
            "0.0\n",
            "1.0\n",
            "1.0\n",
            "1.0\n",
            "1.0\n",
            "1.0\n",
            "0.0\n",
            "1.0\n",
            "1.0\n",
            "1.0\n",
            "1.0\n",
            "1.0\n",
            "1.0\n",
            "1.0\n",
            "1.0\n",
            "0.0\n",
            "1.0\n",
            "0.0\n",
            "0.0\n",
            "1.0\n",
            "1.0\n",
            "1.0\n",
            "1.0\n",
            "1.0\n",
            "0.0\n",
            "1.0\n",
            "1.0\n",
            "1.0\n",
            "1.0\n",
            "1.0\n",
            "1.0\n",
            "1.0\n",
            "1.0\n",
            "1.0\n",
            "1.0\n",
            "1.0\n",
            "1.0\n",
            "1.0\n",
            "1.0\n",
            "0.0\n",
            "1.0\n",
            "1.0\n",
            "1.0\n",
            "1.0\n",
            "1.0\n",
            "1.0\n",
            "1.0\n",
            "1.0\n",
            "1.0\n",
            "0.0\n",
            "1.0\n",
            "1.0\n",
            "1.0\n",
            "1.0\n",
            "1.0\n",
            "1.0\n",
            "0.0\n",
            "1.0\n",
            "0.0\n",
            "1.0\n",
            "1.0\n",
            "1.0\n",
            "1.0\n",
            "1.0\n",
            "1.0\n",
            "1.0\n",
            "1.0\n",
            "1.0\n",
            "1.0\n",
            "1.0\n",
            "1.0\n",
            "1.0\n",
            "1.0\n",
            "1.0\n",
            "1.0\n",
            "1.0\n",
            "1.0\n",
            "1.0\n",
            "1.0\n",
            "1.0\n",
            "1.0\n",
            "1.0\n",
            "1.0\n",
            "1.0\n",
            "1.0\n",
            "1.0\n",
            "1.0\n",
            "1.0\n",
            "0.0\n",
            "1.0\n",
            "1.0\n",
            "1.0\n",
            "0.0\n",
            "1.0\n",
            "0.0\n",
            "1.0\n",
            "1.0\n",
            "1.0\n",
            "1.0\n",
            "1.0\n",
            "1.0\n",
            "1.0\n",
            "1.0\n",
            "1.0\n",
            "1.0\n",
            "0.0\n",
            "1.0\n",
            "1.0\n",
            "1.0\n",
            "1.0\n",
            "1.0\n",
            "1.0\n",
            "1.0\n",
            "1.0\n",
            "1.0\n",
            "1.0\n",
            "1.0\n",
            "1.0\n",
            "0.0\n",
            "1.0\n",
            "1.0\n",
            "1.0\n",
            "1.0\n",
            "1.0\n",
            "1.0\n",
            "1.0\n",
            "1.0\n",
            "1.0\n",
            "1.0\n",
            "0.0\n",
            "1.0\n",
            "0.0\n",
            "1.0\n",
            "1.0\n",
            "1.0\n",
            "1.0\n",
            "1.0\n",
            "1.0\n",
            "0.0\n",
            "1.0\n",
            "1.0\n",
            "1.0\n",
            "1.0\n",
            "1.0\n",
            "1.0\n",
            "0.0\n",
            "1.0\n",
            "1.0\n",
            "1.0\n",
            "1.0\n",
            "1.0\n",
            "1.0\n",
            "1.0\n",
            "1.0\n",
            "1.0\n",
            "1.0\n",
            "1.0\n",
            "1.0\n",
            "1.0\n",
            "1.0\n",
            "1.0\n",
            "1.0\n",
            "1.0\n",
            "0.0\n",
            "0.0\n",
            "1.0\n",
            "1.0\n",
            "1.0\n",
            "1.0\n",
            "1.0\n",
            "1.0\n",
            "1.0\n",
            "1.0\n",
            "1.0\n",
            "1.0\n",
            "1.0\n",
            "0.0\n",
            "1.0\n",
            "1.0\n",
            "1.0\n",
            "1.0\n",
            "1.0\n",
            "1.0\n",
            "1.0\n",
            "0.0\n",
            "1.0\n",
            "1.0\n",
            "1.0\n",
            "1.0\n",
            "1.0\n",
            "1.0\n",
            "0.0\n",
            "1.0\n",
            "1.0\n",
            "1.0\n",
            "1.0\n",
            "0.0\n",
            "1.0\n",
            "1.0\n",
            "1.0\n",
            "1.0\n",
            "1.0\n",
            "1.0\n",
            "1.0\n",
            "1.0\n",
            "0.0\n",
            "1.0\n",
            "1.0\n",
            "1.0\n",
            "1.0\n",
            "1.0\n",
            "0.0\n",
            "1.0\n",
            "1.0\n",
            "1.0\n",
            "1.0\n",
            "1.0\n",
            "1.0\n",
            "1.0\n",
            "1.0\n",
            "1.0\n",
            "1.0\n",
            "1.0\n",
            "1.0\n",
            "1.0\n",
            "0.0\n",
            "1.0\n",
            "1.0\n",
            "1.0\n",
            "1.0\n",
            "1.0\n",
            "1.0\n",
            "1.0\n",
            "1.0\n",
            "0.0\n",
            "1.0\n",
            "1.0\n",
            "0.0\n",
            "0.0\n",
            "1.0\n",
            "1.0\n",
            "1.0\n",
            "1.0\n",
            "1.0\n",
            "1.0\n",
            "1.0\n",
            "0.0\n",
            "0.0\n",
            "1.0\n",
            "1.0\n",
            "0.0\n",
            "1.0\n",
            "0.0\n",
            "1.0\n",
            "1.0\n",
            "1.0\n",
            "1.0\n",
            "1.0\n",
            "1.0\n",
            "0.0\n",
            "1.0\n",
            "0.0\n",
            "1.0\n",
            "1.0\n",
            "1.0\n",
            "1.0\n",
            "1.0\n",
            "1.0\n",
            "1.0\n",
            "0.0\n",
            "1.0\n",
            "1.0\n",
            "1.0\n",
            "1.0\n",
            "1.0\n",
            "1.0\n",
            "0.0\n",
            "1.0\n",
            "1.0\n",
            "1.0\n",
            "1.0\n",
            "1.0\n",
            "1.0\n",
            "1.0\n",
            "1.0\n",
            "1.0\n",
            "0.0\n",
            "1.0\n",
            "0.0\n",
            "1.0\n",
            "0.0\n",
            "0.0\n",
            "1.0\n",
            "1.0\n",
            "1.0\n",
            "1.0\n",
            "1.0\n",
            "1.0\n",
            "1.0\n",
            "1.0\n",
            "1.0\n",
            "1.0\n",
            "0.0\n",
            "1.0\n",
            "0.0\n",
            "1.0\n",
            "1.0\n",
            "1.0\n",
            "1.0\n",
            "0.0\n",
            "1.0\n",
            "1.0\n",
            "1.0\n",
            "1.0\n",
            "1.0\n",
            "0.0\n",
            "1.0\n",
            "1.0\n",
            "1.0\n",
            "1.0\n",
            "1.0\n",
            "1.0\n",
            "1.0\n",
            "1.0\n",
            "0.0\n",
            "1.0\n",
            "1.0\n",
            "1.0\n",
            "1.0\n",
            "1.0\n",
            "1.0\n",
            "1.0\n",
            "0.0\n",
            "1.0\n",
            "1.0\n",
            "1.0\n",
            "1.0\n",
            "0.0\n",
            "1.0\n",
            "1.0\n",
            "1.0\n",
            "1.0\n",
            "1.0\n",
            "1.0\n",
            "1.0\n",
            "1.0\n",
            "1.0\n",
            "1.0\n",
            "1.0\n",
            "1.0\n",
            "1.0\n",
            "1.0\n",
            "1.0\n",
            "1.0\n",
            "1.0\n",
            "0.0\n",
            "1.0\n",
            "1.0\n",
            "1.0\n",
            "1.0\n",
            "1.0\n",
            "1.0\n",
            "1.0\n",
            "1.0\n",
            "1.0\n",
            "0.0\n",
            "1.0\n",
            "1.0\n",
            "1.0\n",
            "1.0\n",
            "0.0\n",
            "1.0\n",
            "1.0\n",
            "1.0\n",
            "1.0\n",
            "1.0\n",
            "1.0\n",
            "1.0\n",
            "1.0\n",
            "0.0\n",
            "1.0\n",
            "1.0\n",
            "1.0\n",
            "1.0\n",
            "1.0\n",
            "1.0\n",
            "0.0\n",
            "1.0\n",
            "0.0\n",
            "1.0\n",
            "1.0\n",
            "0.0\n",
            "0.0\n",
            "1.0\n",
            "1.0\n",
            "1.0\n",
            "1.0\n",
            "1.0\n",
            "1.0\n",
            "1.0\n",
            "1.0\n",
            "1.0\n",
            "0.0\n",
            "1.0\n",
            "1.0\n",
            "0.0\n",
            "1.0\n",
            "0.0\n",
            "1.0\n",
            "0.0\n",
            "1.0\n",
            "1.0\n",
            "1.0\n",
            "1.0\n",
            "0.0\n",
            "1.0\n",
            "1.0\n",
            "1.0\n",
            "1.0\n",
            "1.0\n",
            "1.0\n",
            "1.0\n",
            "0.0\n",
            "1.0\n",
            "1.0\n",
            "1.0\n",
            "1.0\n",
            "0.0\n",
            "1.0\n",
            "1.0\n",
            "1.0\n",
            "1.0\n",
            "1.0\n",
            "1.0\n",
            "1.0\n",
            "0.0\n",
            "1.0\n",
            "1.0\n",
            "1.0\n",
            "1.0\n",
            "1.0\n",
            "1.0\n",
            "1.0\n",
            "1.0\n",
            "1.0\n",
            "1.0\n",
            "1.0\n",
            "1.0\n",
            "1.0\n",
            "1.0\n",
            "1.0\n",
            "0.0\n"
          ],
          "name": "stdout"
        }
      ]
    },
    {
      "cell_type": "markdown",
      "metadata": {
        "id": "k0FofXkm0Atg",
        "colab_type": "text"
      },
      "source": [
        "**9. Identify the Outliers in each Independent Variable.Distribute the data in each field using Quartile bins (0-25%,25%-50%,50%-75%,75%-100% iles)**\n"
      ]
    },
    {
      "cell_type": "code",
      "metadata": {
        "id": "V9rkQfWb0xf6",
        "colab_type": "code",
        "outputId": "92293165-807d-4d7a-d154-5bff0fe623df",
        "colab": {
          "base_uri": "https://localhost:8080/",
          "height": 167
        }
      },
      "source": [
        "df['ApplicantIncome'].describe()\n",
        "#0th percentile=min, 100th percentile=max"
      ],
      "execution_count": 0,
      "outputs": [
        {
          "output_type": "execute_result",
          "data": {
            "text/plain": [
              "count      614.000000\n",
              "mean      5403.459283\n",
              "std       6109.041673\n",
              "min        150.000000\n",
              "25%       2877.500000\n",
              "50%       3812.500000\n",
              "75%       5795.000000\n",
              "max      81000.000000\n",
              "Name: ApplicantIncome, dtype: float64"
            ]
          },
          "metadata": {
            "tags": []
          },
          "execution_count": 153
        }
      ]
    },
    {
      "cell_type": "code",
      "metadata": {
        "id": "sV-NFo9h02NE",
        "colab_type": "code",
        "outputId": "d61f8045-2d0b-471a-c2dd-377287f9fbca",
        "colab": {
          "base_uri": "https://localhost:8080/",
          "height": 167
        }
      },
      "source": [
        "df['CoapplicantIncome'].describe()"
      ],
      "execution_count": 0,
      "outputs": [
        {
          "output_type": "execute_result",
          "data": {
            "text/plain": [
              "count      614.000000\n",
              "mean      1621.245798\n",
              "std       2926.248369\n",
              "min          0.000000\n",
              "25%          0.000000\n",
              "50%       1188.500000\n",
              "75%       2297.250000\n",
              "max      41667.000000\n",
              "Name: CoapplicantIncome, dtype: float64"
            ]
          },
          "metadata": {
            "tags": []
          },
          "execution_count": 146
        }
      ]
    },
    {
      "cell_type": "code",
      "metadata": {
        "id": "_FZirs-z09RC",
        "colab_type": "code",
        "outputId": "43354f1b-73f2-41db-ace9-066445a3b287",
        "colab": {
          "base_uri": "https://localhost:8080/",
          "height": 167
        }
      },
      "source": [
        "df['LoanAmount'].describe()"
      ],
      "execution_count": 0,
      "outputs": [
        {
          "output_type": "execute_result",
          "data": {
            "text/plain": [
              "count    592.000000\n",
              "mean     146.412162\n",
              "std       85.587325\n",
              "min        9.000000\n",
              "25%      100.000000\n",
              "50%      128.000000\n",
              "75%      168.000000\n",
              "max      700.000000\n",
              "Name: LoanAmount, dtype: float64"
            ]
          },
          "metadata": {
            "tags": []
          },
          "execution_count": 147
        }
      ]
    },
    {
      "cell_type": "code",
      "metadata": {
        "id": "xJe8wOO-1Euj",
        "colab_type": "code",
        "outputId": "ab244093-3d90-4dec-f5e4-92cf732f0a4f",
        "colab": {
          "base_uri": "https://localhost:8080/",
          "height": 167
        }
      },
      "source": [
        "df['Loan_Amount_Term'].describe()"
      ],
      "execution_count": 0,
      "outputs": [
        {
          "output_type": "execute_result",
          "data": {
            "text/plain": [
              "count    600.00000\n",
              "mean     342.00000\n",
              "std       65.12041\n",
              "min       12.00000\n",
              "25%      360.00000\n",
              "50%      360.00000\n",
              "75%      360.00000\n",
              "max      480.00000\n",
              "Name: Loan_Amount_Term, dtype: float64"
            ]
          },
          "metadata": {
            "tags": []
          },
          "execution_count": 148
        }
      ]
    },
    {
      "cell_type": "code",
      "metadata": {
        "id": "A5_zDbgj2IvH",
        "colab_type": "code",
        "outputId": "ee79bbcd-4636-4e53-da71-e3b45fba0be9",
        "colab": {
          "base_uri": "https://localhost:8080/",
          "height": 167
        }
      },
      "source": [
        "df['Credit_History'].describe()"
      ],
      "execution_count": 0,
      "outputs": [
        {
          "output_type": "execute_result",
          "data": {
            "text/plain": [
              "count    614.000000\n",
              "mean       0.855049\n",
              "std        0.352339\n",
              "min        0.000000\n",
              "25%        1.000000\n",
              "50%        1.000000\n",
              "75%        1.000000\n",
              "max        1.000000\n",
              "Name: Credit_History, dtype: float64"
            ]
          },
          "metadata": {
            "tags": []
          },
          "execution_count": 154
        }
      ]
    },
    {
      "cell_type": "markdown",
      "metadata": {
        "id": "LWwid6irZnVs",
        "colab_type": "text"
      },
      "source": [
        "**10. Use Box-Plot chart to represent the Outliers for each Independent Variable**"
      ]
    },
    {
      "cell_type": "code",
      "metadata": {
        "id": "_Xb1yl9hXLCw",
        "colab_type": "code",
        "outputId": "dc1b343f-7e0e-4c04-d6ca-03e6f2cfe451",
        "colab": {
          "base_uri": "https://localhost:8080/",
          "height": 281
        }
      },
      "source": [
        "df.boxplot(column=['ApplicantIncome'])"
      ],
      "execution_count": 0,
      "outputs": [
        {
          "output_type": "execute_result",
          "data": {
            "text/plain": [
              "<matplotlib.axes._subplots.AxesSubplot at 0x7fa0e1fdc828>"
            ]
          },
          "metadata": {
            "tags": []
          },
          "execution_count": 60
        },
        {
          "output_type": "display_data",
          "data": {
            "image/png": "[encoded data removed]",
            "text/plain": [
              "<Figure size 432x288 with 1 Axes>"
            ]
          },
          "metadata": {
            "tags": [],
            "needs_background": "light"
          }
        }
      ]
    },
    {
      "cell_type": "markdown",
      "metadata": {
        "id": "Sm-OIUzvYORy",
        "colab_type": "text"
      },
      "source": [
        "There are 8 outliers in ApplicantIncome"
      ]
    },
    {
      "cell_type": "code",
      "metadata": {
        "id": "IVrYQd0HYTbp",
        "colab_type": "code",
        "outputId": "a8c1ed8c-d3c6-4a7c-a50b-40aad0e3b231",
        "colab": {
          "base_uri": "https://localhost:8080/",
          "height": 281
        }
      },
      "source": [
        "df.boxplot(column=['CoapplicantIncome'])"
      ],
      "execution_count": 0,
      "outputs": [
        {
          "output_type": "execute_result",
          "data": {
            "text/plain": [
              "<matplotlib.axes._subplots.AxesSubplot at 0x7fa0e25e05f8>"
            ]
          },
          "metadata": {
            "tags": []
          },
          "execution_count": 63
        },
        {
          "output_type": "display_data",
          "data": {
            "image/png": "[encoded data removed]",
            "text/plain": [
              "<Figure size 432x288 with 1 Axes>"
            ]
          },
          "metadata": {
            "tags": [],
            "needs_background": "light"
          }
        }
      ]
    },
    {
      "cell_type": "markdown",
      "metadata": {
        "id": "jgQYPdg9YcgX",
        "colab_type": "text"
      },
      "source": [
        "There are about 3 outliers in CoapplicantIncome"
      ]
    },
    {
      "cell_type": "code",
      "metadata": {
        "id": "8_6tmXzdYpNw",
        "colab_type": "code",
        "outputId": "9604719b-9a14-4ead-e3e1-9d3ce9e9f5c7",
        "colab": {
          "base_uri": "https://localhost:8080/",
          "height": 281
        }
      },
      "source": [
        "df.boxplot(column=['LoanAmount'])"
      ],
      "execution_count": 0,
      "outputs": [
        {
          "output_type": "execute_result",
          "data": {
            "text/plain": [
              "<matplotlib.axes._subplots.AxesSubplot at 0x7fa0e2cfb668>"
            ]
          },
          "metadata": {
            "tags": []
          },
          "execution_count": 64
        },
        {
          "output_type": "display_data",
          "data": {
            "image/png": "[encoded data removed]",
            "text/plain": [
              "<Figure size 432x288 with 1 Axes>"
            ]
          },
          "metadata": {
            "tags": [],
            "needs_background": "light"
          }
        }
      ]
    },
    {
      "cell_type": "markdown",
      "metadata": {
        "id": "EdugwZB-YtAU",
        "colab_type": "text"
      },
      "source": [
        "4 outliers are visible in LoanAmount"
      ]
    },
    {
      "cell_type": "code",
      "metadata": {
        "id": "hHrRPDaZYzbH",
        "colab_type": "code",
        "outputId": "5ab0ed01-8d54-4152-c0ec-6ac9ebad26ea",
        "colab": {
          "base_uri": "https://localhost:8080/",
          "height": 286
        }
      },
      "source": [
        "df.boxplot(column=['Loan_Amount_Term'])"
      ],
      "execution_count": 0,
      "outputs": [
        {
          "output_type": "execute_result",
          "data": {
            "text/plain": [
              "<matplotlib.axes._subplots.AxesSubplot at 0x7fa0e2359470>"
            ]
          },
          "metadata": {
            "tags": []
          },
          "execution_count": 65
        },
        {
          "output_type": "display_data",
          "data": {
            "image/png": "[encoded data removed]",
            "text/plain": [
              "<Figure size 432x288 with 1 Axes>"
            ]
          },
          "metadata": {
            "tags": [],
            "needs_background": "light"
          }
        }
      ]
    },
    {
      "cell_type": "markdown",
      "metadata": {
        "id": "KlsN-lPiY7gJ",
        "colab_type": "text"
      },
      "source": [
        "1 outlier is present in Loan_Amount_Term"
      ]
    },
    {
      "cell_type": "code",
      "metadata": {
        "id": "3p3AjB4RY_k6",
        "colab_type": "code",
        "outputId": "5219829d-2d46-4f99-fbe5-a1c4c4837e47",
        "colab": {
          "base_uri": "https://localhost:8080/",
          "height": 283
        }
      },
      "source": [
        "df.boxplot(column=['Credit_History'])"
      ],
      "execution_count": 0,
      "outputs": [
        {
          "output_type": "execute_result",
          "data": {
            "text/plain": [
              "<matplotlib.axes._subplots.AxesSubplot at 0x7fa0e1f692e8>"
            ]
          },
          "metadata": {
            "tags": []
          },
          "execution_count": 66
        },
        {
          "output_type": "display_data",
          "data": {
            "image/png": "[encoded data removed]",
            "text/plain": [
              "<Figure size 432x288 with 1 Axes>"
            ]
          },
          "metadata": {
            "tags": [],
            "needs_background": "light"
          }
        }
      ]
    },
    {
      "cell_type": "markdown",
      "metadata": {
        "id": "IkcjhCl_ZFJ9",
        "colab_type": "text"
      },
      "source": [
        "There is no Outlier in Credit_History"
      ]
    },
    {
      "cell_type": "code",
      "metadata": {
        "id": "IDAFTnhgln5z",
        "colab_type": "code",
        "outputId": "4452f966-4c47-4860-f23c-5970ff1626bc",
        "colab": {
          "base_uri": "https://localhost:8080/",
          "height": 234
        }
      },
      "source": [
        "df.dtypes"
      ],
      "execution_count": 0,
      "outputs": [
        {
          "output_type": "execute_result",
          "data": {
            "text/plain": [
              "Gender                object\n",
              "Married               object\n",
              "Dependents            object\n",
              "Education             object\n",
              "Self_Employed         object\n",
              "ApplicantIncome        int64\n",
              "CoapplicantIncome    float64\n",
              "LoanAmount           float64\n",
              "Loan_Amount_Term     float64\n",
              "Credit_History       float64\n",
              "Property_Area         object\n",
              "Loan_Status           object\n",
              "dtype: object"
            ]
          },
          "metadata": {
            "tags": []
          },
          "execution_count": 88
        }
      ]
    },
    {
      "cell_type": "markdown",
      "metadata": {
        "id": "yhWA3nQvZbyJ",
        "colab_type": "text"
      },
      "source": [
        "**11. Perform treatment of these Outliers using appropriate techniqies.Explain your approach**"
      ]
    },
    {
      "cell_type": "code",
      "metadata": {
        "id": "m2omLB7TlgNa",
        "colab_type": "code",
        "outputId": "98354105-24b8-44e2-a55d-7cab016a86df",
        "colab": {
          "base_uri": "https://localhost:8080/",
          "height": 234
        }
      },
      "source": [
        "q1=df.quantile(0.1)\n",
        "q3=df.quantile(0.9)\n",
        "iqr=q3-q1\n",
        "cutoff=1.5*iqr\n",
        "lower=q1-cutoff\n",
        "upper=q3+cutoff\n",
        "((df<lower)|(df>upper)).sum()"
      ],
      "execution_count": 0,
      "outputs": [
        {
          "output_type": "execute_result",
          "data": {
            "text/plain": [
              "ApplicantIncome      10\n",
              "CoapplicantIncome     6\n",
              "Credit_History        0\n",
              "Dependents            0\n",
              "Education             0\n",
              "Gender                0\n",
              "LoanAmount            9\n",
              "Loan_Amount_Term     71\n",
              "Loan_Status           0\n",
              "Married               0\n",
              "Property_Area         0\n",
              "Self_Employed         0\n",
              "dtype: int64"
            ]
          },
          "metadata": {
            "tags": []
          },
          "execution_count": 103
        }
      ]
    },
    {
      "cell_type": "code",
      "metadata": {
        "id": "9pn5rwoVorcV",
        "colab_type": "code",
        "colab": {}
      },
      "source": [
        "df1=df[~(((df<lower)|(df>upper))).any(axis=1)]"
      ],
      "execution_count": 0,
      "outputs": []
    },
    {
      "cell_type": "code",
      "metadata": {
        "id": "AKD43gk-p_0l",
        "colab_type": "code",
        "outputId": "580e3f67-2000-4647-b5ce-bb7be414b9a5",
        "colab": {
          "base_uri": "https://localhost:8080/",
          "height": 33
        }
      },
      "source": [
        "df.shape"
      ],
      "execution_count": 0,
      "outputs": [
        {
          "output_type": "execute_result",
          "data": {
            "text/plain": [
              "(614, 12)"
            ]
          },
          "metadata": {
            "tags": []
          },
          "execution_count": 106
        }
      ]
    },
    {
      "cell_type": "code",
      "metadata": {
        "id": "ngPVkl4TqC_W",
        "colab_type": "code",
        "outputId": "e3e76c7d-7d2d-460f-a3c7-8c8216f61a0d",
        "colab": {
          "base_uri": "https://localhost:8080/",
          "height": 33
        }
      },
      "source": [
        "df1.shape"
      ],
      "execution_count": 0,
      "outputs": [
        {
          "output_type": "execute_result",
          "data": {
            "text/plain": [
              "(526, 12)"
            ]
          },
          "metadata": {
            "tags": []
          },
          "execution_count": 107
        }
      ]
    },
    {
      "cell_type": "markdown",
      "metadata": {
        "id": "cb4_c1XgqP5M",
        "colab_type": "text"
      },
      "source": [
        "**Step 1 -**\n",
        "\n",
        "**Perform Label Encoding on Target Variable (Loan_Status).**"
      ]
    },
    {
      "cell_type": "code",
      "metadata": {
        "id": "cnhkGjj3qg-2",
        "colab_type": "code",
        "outputId": "1ca3f5ee-5aa4-4d1a-8da6-c030019dc09f",
        "colab": {
          "base_uri": "https://localhost:8080/",
          "height": 196
        }
      },
      "source": [
        "le=LabelEncoder()\n",
        "df['Loan_Status']=le.fit_transform(df['Loan_Status'])\n",
        "df.head()"
      ],
      "execution_count": 0,
      "outputs": [
        {
          "output_type": "execute_result",
          "data": {
            "text/html": [
              "<div>\n",
              "<style scoped>\n",
              "    .dataframe tbody tr th:only-of-type {\n",
              "        vertical-align: middle;\n",
              "    }\n",
              "\n",
              "    .dataframe tbody tr th {\n",
              "        vertical-align: top;\n",
              "    }\n",
              "\n",
              "    .dataframe thead th {\n",
              "        text-align: right;\n",
              "    }\n",
              "</style>\n",
              "<table border=\"1\" class=\"dataframe\">\n",
              "  <thead>\n",
              "    <tr style=\"text-align: right;\">\n",
              "      <th></th>\n",
              "      <th>Gender</th>\n",
              "      <th>Married</th>\n",
              "      <th>Dependents</th>\n",
              "      <th>Education</th>\n",
              "      <th>Self_Employed</th>\n",
              "      <th>ApplicantIncome</th>\n",
              "      <th>CoapplicantIncome</th>\n",
              "      <th>LoanAmount</th>\n",
              "      <th>Loan_Amount_Term</th>\n",
              "      <th>Credit_History</th>\n",
              "      <th>Property_Area</th>\n",
              "      <th>Loan_Status</th>\n",
              "    </tr>\n",
              "  </thead>\n",
              "  <tbody>\n",
              "    <tr>\n",
              "      <th>0</th>\n",
              "      <td>Male</td>\n",
              "      <td>No</td>\n",
              "      <td>0</td>\n",
              "      <td>Graduate</td>\n",
              "      <td>No</td>\n",
              "      <td>5849</td>\n",
              "      <td>0.0</td>\n",
              "      <td>NaN</td>\n",
              "      <td>360.0</td>\n",
              "      <td>1.0</td>\n",
              "      <td>Urban</td>\n",
              "      <td>1</td>\n",
              "    </tr>\n",
              "    <tr>\n",
              "      <th>1</th>\n",
              "      <td>Male</td>\n",
              "      <td>Yes</td>\n",
              "      <td>1</td>\n",
              "      <td>Graduate</td>\n",
              "      <td>No</td>\n",
              "      <td>4583</td>\n",
              "      <td>1508.0</td>\n",
              "      <td>128.0</td>\n",
              "      <td>360.0</td>\n",
              "      <td>1.0</td>\n",
              "      <td>Rural</td>\n",
              "      <td>0</td>\n",
              "    </tr>\n",
              "    <tr>\n",
              "      <th>2</th>\n",
              "      <td>Male</td>\n",
              "      <td>Yes</td>\n",
              "      <td>0</td>\n",
              "      <td>Graduate</td>\n",
              "      <td>Yes</td>\n",
              "      <td>3000</td>\n",
              "      <td>0.0</td>\n",
              "      <td>66.0</td>\n",
              "      <td>360.0</td>\n",
              "      <td>1.0</td>\n",
              "      <td>Urban</td>\n",
              "      <td>1</td>\n",
              "    </tr>\n",
              "    <tr>\n",
              "      <th>3</th>\n",
              "      <td>Male</td>\n",
              "      <td>Yes</td>\n",
              "      <td>0</td>\n",
              "      <td>Not Graduate</td>\n",
              "      <td>No</td>\n",
              "      <td>2583</td>\n",
              "      <td>2358.0</td>\n",
              "      <td>120.0</td>\n",
              "      <td>360.0</td>\n",
              "      <td>1.0</td>\n",
              "      <td>Urban</td>\n",
              "      <td>1</td>\n",
              "    </tr>\n",
              "    <tr>\n",
              "      <th>4</th>\n",
              "      <td>Male</td>\n",
              "      <td>No</td>\n",
              "      <td>0</td>\n",
              "      <td>Graduate</td>\n",
              "      <td>No</td>\n",
              "      <td>6000</td>\n",
              "      <td>0.0</td>\n",
              "      <td>141.0</td>\n",
              "      <td>360.0</td>\n",
              "      <td>1.0</td>\n",
              "      <td>Urban</td>\n",
              "      <td>1</td>\n",
              "    </tr>\n",
              "  </tbody>\n",
              "</table>\n",
              "</div>"
            ],
            "text/plain": [
              "  Gender Married Dependents  ... Credit_History Property_Area  Loan_Status\n",
              "0   Male      No          0  ...            1.0         Urban            1\n",
              "1   Male     Yes          1  ...            1.0         Rural            0\n",
              "2   Male     Yes          0  ...            1.0         Urban            1\n",
              "3   Male     Yes          0  ...            1.0         Urban            1\n",
              "4   Male      No          0  ...            1.0         Urban            1\n",
              "\n",
              "[5 rows x 12 columns]"
            ]
          },
          "metadata": {
            "tags": []
          },
          "execution_count": 192
        }
      ]
    },
    {
      "cell_type": "markdown",
      "metadata": {
        "id": "RYZRsNG9rg_k",
        "colab_type": "text"
      },
      "source": [
        "**Step 2- Using dataframe from Step 1:**"
      ]
    },
    {
      "cell_type": "markdown",
      "metadata": {
        "id": "fn4xJdncrjGD",
        "colab_type": "text"
      },
      "source": [
        "Perform Label Encoding on Categorical Independent Variables."
      ]
    },
    {
      "cell_type": "code",
      "metadata": {
        "id": "UQBKvNpkrgKN",
        "colab_type": "code",
        "outputId": "f1d73063-1558-4ceb-ddb5-bb7b6851a6a0",
        "colab": {
          "base_uri": "https://localhost:8080/",
          "height": 150
        }
      },
      "source": [
        "categoricalcolumns = [i for i in df if len(df[i].unique())<=5]\n",
        "categoricalcolumns"
      ],
      "execution_count": 0,
      "outputs": [
        {
          "output_type": "execute_result",
          "data": {
            "text/plain": [
              "['Gender',\n",
              " 'Married',\n",
              " 'Dependents',\n",
              " 'Education',\n",
              " 'Self_Employed',\n",
              " 'Credit_History',\n",
              " 'Property_Area',\n",
              " 'Loan_Status']"
            ]
          },
          "metadata": {
            "tags": []
          },
          "execution_count": 226
        }
      ]
    },
    {
      "cell_type": "code",
      "metadata": {
        "id": "MHn-UHEZvoSB",
        "colab_type": "code",
        "outputId": "f95b332d-14e2-42c4-d0cd-8520e99b7fdf",
        "colab": {
          "base_uri": "https://localhost:8080/",
          "height": 117
        }
      },
      "source": [
        "enc=df.copy()\n",
        "import numpy as np\n",
        "for col in enc.columns:\n",
        "  missingPercent = np.mean(enc[col].isnull())\n",
        "  if round(missingPercent*100) >0:\n",
        "    missingValues = df[col].isnull().sum().sum()\n",
        "    print(\"Column {} with mean {} with missing values  {}\".format(col,int(round(missingPercent*100)),missingValues))\n",
        "# enc['Gender']=le.fit_transform(enc['Gender'])"
      ],
      "execution_count": 0,
      "outputs": [
        {
          "output_type": "stream",
          "text": [
            "Column Gender with mean 2 with missing values  13\n",
            "Column Dependents with mean 2 with missing values  15\n",
            "Column Self_Employed with mean 5 with missing values  32\n",
            "Column LoanAmount with mean 4 with missing values  22\n",
            "Column Loan_Amount_Term with mean 2 with missing values  14\n",
            "Column Credit_History with mean 8 with missing values  50\n"
          ],
          "name": "stdout"
        }
      ]
    },
    {
      "cell_type": "code",
      "metadata": {
        "id": "PZ_NEBmc0p19",
        "colab_type": "code",
        "colab": {}
      },
      "source": [
        "enc['Gender']=enc.Gender.fillna(enc[\"Gender\"].value_counts().nlargest(n=1).index[0])\n",
        "enc = enc.fillna(0)\n",
        "for col in enc.columns:\n",
        "  missingPercent = np.mean(enc[col].isnull())\n",
        "  if round(missingPercent*100) >0:\n",
        "    missingValues = df[col].isnull().sum().sum()\n",
        "    print(\"Column {} with mean {} with missing values  {}\".format(col,int(round(missingPercent*100)),missingValues))\n",
        "#No more missing values"
      ],
      "execution_count": 0,
      "outputs": []
    },
    {
      "cell_type": "code",
      "metadata": {
        "id": "ddTcNCrLz1kg",
        "colab_type": "code",
        "outputId": "ad04111d-0a43-49ef-911f-34e5ee8325e9",
        "colab": {
          "base_uri": "https://localhost:8080/",
          "height": 404
        }
      },
      "source": [
        "df"
      ],
      "execution_count": 0,
      "outputs": [
        {
          "output_type": "execute_result",
          "data": {
            "text/html": [
              "<div>\n",
              "<style scoped>\n",
              "    .dataframe tbody tr th:only-of-type {\n",
              "        vertical-align: middle;\n",
              "    }\n",
              "\n",
              "    .dataframe tbody tr th {\n",
              "        vertical-align: top;\n",
              "    }\n",
              "\n",
              "    .dataframe thead th {\n",
              "        text-align: right;\n",
              "    }\n",
              "</style>\n",
              "<table border=\"1\" class=\"dataframe\">\n",
              "  <thead>\n",
              "    <tr style=\"text-align: right;\">\n",
              "      <th></th>\n",
              "      <th>Gender</th>\n",
              "      <th>Married</th>\n",
              "      <th>Dependents</th>\n",
              "      <th>Education</th>\n",
              "      <th>Self_Employed</th>\n",
              "      <th>ApplicantIncome</th>\n",
              "      <th>CoapplicantIncome</th>\n",
              "      <th>LoanAmount</th>\n",
              "      <th>Loan_Amount_Term</th>\n",
              "      <th>Credit_History</th>\n",
              "      <th>Property_Area</th>\n",
              "      <th>Loan_Status</th>\n",
              "    </tr>\n",
              "  </thead>\n",
              "  <tbody>\n",
              "    <tr>\n",
              "      <th>0</th>\n",
              "      <td>Male</td>\n",
              "      <td>No</td>\n",
              "      <td>0</td>\n",
              "      <td>Graduate</td>\n",
              "      <td>No</td>\n",
              "      <td>5849</td>\n",
              "      <td>0.0</td>\n",
              "      <td>NaN</td>\n",
              "      <td>360.0</td>\n",
              "      <td>1.0</td>\n",
              "      <td>Urban</td>\n",
              "      <td>1</td>\n",
              "    </tr>\n",
              "    <tr>\n",
              "      <th>1</th>\n",
              "      <td>Male</td>\n",
              "      <td>Yes</td>\n",
              "      <td>1</td>\n",
              "      <td>Graduate</td>\n",
              "      <td>No</td>\n",
              "      <td>4583</td>\n",
              "      <td>1508.0</td>\n",
              "      <td>128.0</td>\n",
              "      <td>360.0</td>\n",
              "      <td>1.0</td>\n",
              "      <td>Rural</td>\n",
              "      <td>0</td>\n",
              "    </tr>\n",
              "    <tr>\n",
              "      <th>2</th>\n",
              "      <td>Male</td>\n",
              "      <td>Yes</td>\n",
              "      <td>0</td>\n",
              "      <td>Graduate</td>\n",
              "      <td>Yes</td>\n",
              "      <td>3000</td>\n",
              "      <td>0.0</td>\n",
              "      <td>66.0</td>\n",
              "      <td>360.0</td>\n",
              "      <td>1.0</td>\n",
              "      <td>Urban</td>\n",
              "      <td>1</td>\n",
              "    </tr>\n",
              "    <tr>\n",
              "      <th>3</th>\n",
              "      <td>Male</td>\n",
              "      <td>Yes</td>\n",
              "      <td>0</td>\n",
              "      <td>Not Graduate</td>\n",
              "      <td>No</td>\n",
              "      <td>2583</td>\n",
              "      <td>2358.0</td>\n",
              "      <td>120.0</td>\n",
              "      <td>360.0</td>\n",
              "      <td>1.0</td>\n",
              "      <td>Urban</td>\n",
              "      <td>1</td>\n",
              "    </tr>\n",
              "    <tr>\n",
              "      <th>4</th>\n",
              "      <td>Male</td>\n",
              "      <td>No</td>\n",
              "      <td>0</td>\n",
              "      <td>Graduate</td>\n",
              "      <td>No</td>\n",
              "      <td>6000</td>\n",
              "      <td>0.0</td>\n",
              "      <td>141.0</td>\n",
              "      <td>360.0</td>\n",
              "      <td>1.0</td>\n",
              "      <td>Urban</td>\n",
              "      <td>1</td>\n",
              "    </tr>\n",
              "    <tr>\n",
              "      <th>...</th>\n",
              "      <td>...</td>\n",
              "      <td>...</td>\n",
              "      <td>...</td>\n",
              "      <td>...</td>\n",
              "      <td>...</td>\n",
              "      <td>...</td>\n",
              "      <td>...</td>\n",
              "      <td>...</td>\n",
              "      <td>...</td>\n",
              "      <td>...</td>\n",
              "      <td>...</td>\n",
              "      <td>...</td>\n",
              "    </tr>\n",
              "    <tr>\n",
              "      <th>609</th>\n",
              "      <td>Female</td>\n",
              "      <td>No</td>\n",
              "      <td>0</td>\n",
              "      <td>Graduate</td>\n",
              "      <td>No</td>\n",
              "      <td>2900</td>\n",
              "      <td>0.0</td>\n",
              "      <td>71.0</td>\n",
              "      <td>360.0</td>\n",
              "      <td>1.0</td>\n",
              "      <td>Rural</td>\n",
              "      <td>1</td>\n",
              "    </tr>\n",
              "    <tr>\n",
              "      <th>610</th>\n",
              "      <td>Male</td>\n",
              "      <td>Yes</td>\n",
              "      <td>3+</td>\n",
              "      <td>Graduate</td>\n",
              "      <td>No</td>\n",
              "      <td>4106</td>\n",
              "      <td>0.0</td>\n",
              "      <td>40.0</td>\n",
              "      <td>180.0</td>\n",
              "      <td>1.0</td>\n",
              "      <td>Rural</td>\n",
              "      <td>1</td>\n",
              "    </tr>\n",
              "    <tr>\n",
              "      <th>611</th>\n",
              "      <td>Male</td>\n",
              "      <td>Yes</td>\n",
              "      <td>1</td>\n",
              "      <td>Graduate</td>\n",
              "      <td>No</td>\n",
              "      <td>8072</td>\n",
              "      <td>240.0</td>\n",
              "      <td>253.0</td>\n",
              "      <td>360.0</td>\n",
              "      <td>1.0</td>\n",
              "      <td>Urban</td>\n",
              "      <td>1</td>\n",
              "    </tr>\n",
              "    <tr>\n",
              "      <th>612</th>\n",
              "      <td>Male</td>\n",
              "      <td>Yes</td>\n",
              "      <td>2</td>\n",
              "      <td>Graduate</td>\n",
              "      <td>No</td>\n",
              "      <td>7583</td>\n",
              "      <td>0.0</td>\n",
              "      <td>187.0</td>\n",
              "      <td>360.0</td>\n",
              "      <td>1.0</td>\n",
              "      <td>Urban</td>\n",
              "      <td>1</td>\n",
              "    </tr>\n",
              "    <tr>\n",
              "      <th>613</th>\n",
              "      <td>Female</td>\n",
              "      <td>No</td>\n",
              "      <td>0</td>\n",
              "      <td>Graduate</td>\n",
              "      <td>Yes</td>\n",
              "      <td>4583</td>\n",
              "      <td>0.0</td>\n",
              "      <td>133.0</td>\n",
              "      <td>360.0</td>\n",
              "      <td>0.0</td>\n",
              "      <td>Semiurban</td>\n",
              "      <td>0</td>\n",
              "    </tr>\n",
              "  </tbody>\n",
              "</table>\n",
              "<p>614 rows × 12 columns</p>\n",
              "</div>"
            ],
            "text/plain": [
              "     Gender Married Dependents  ... Credit_History Property_Area  Loan_Status\n",
              "0      Male      No          0  ...            1.0         Urban            1\n",
              "1      Male     Yes          1  ...            1.0         Rural            0\n",
              "2      Male     Yes          0  ...            1.0         Urban            1\n",
              "3      Male     Yes          0  ...            1.0         Urban            1\n",
              "4      Male      No          0  ...            1.0         Urban            1\n",
              "..      ...     ...        ...  ...            ...           ...          ...\n",
              "609  Female      No          0  ...            1.0         Rural            1\n",
              "610    Male     Yes         3+  ...            1.0         Rural            1\n",
              "611    Male     Yes          1  ...            1.0         Urban            1\n",
              "612    Male     Yes          2  ...            1.0         Urban            1\n",
              "613  Female      No          0  ...            0.0     Semiurban            0\n",
              "\n",
              "[614 rows x 12 columns]"
            ]
          },
          "metadata": {
            "tags": []
          },
          "execution_count": 229
        }
      ]
    },
    {
      "cell_type": "code",
      "metadata": {
        "id": "53KodFZV06b4",
        "colab_type": "code",
        "colab": {}
      },
      "source": [
        "enc['Gender']=le.fit_transform(enc['Gender'])"
      ],
      "execution_count": 0,
      "outputs": []
    },
    {
      "cell_type": "code",
      "metadata": {
        "id": "q0zzxY361xpd",
        "colab_type": "code",
        "colab": {}
      },
      "source": [
        "enc['Married']=le.fit_transform(enc['Married'])"
      ],
      "execution_count": 0,
      "outputs": []
    },
    {
      "cell_type": "code",
      "metadata": {
        "id": "e2R8roxN2FAe",
        "colab_type": "code",
        "colab": {}
      },
      "source": [
        "enc['Dependents']=le.fit_transform(enc['Dependents'])"
      ],
      "execution_count": 0,
      "outputs": []
    },
    {
      "cell_type": "code",
      "metadata": {
        "id": "ouaI71cG2R1V",
        "colab_type": "code",
        "colab": {}
      },
      "source": [
        "enc['Education']=le.fit_transform(enc['Education'])"
      ],
      "execution_count": 0,
      "outputs": []
    },
    {
      "cell_type": "code",
      "metadata": {
        "id": "E0_sAfRH2mjn",
        "colab_type": "code",
        "colab": {}
      },
      "source": [
        "enc['Self_Employed']=le.fit_transform(enc['Self_Employed'])"
      ],
      "execution_count": 0,
      "outputs": []
    },
    {
      "cell_type": "code",
      "metadata": {
        "id": "6d12Oo9Q22sP",
        "colab_type": "code",
        "colab": {}
      },
      "source": [
        "enc['Credit_History']=le.fit_transform(enc['Credit_History'])"
      ],
      "execution_count": 0,
      "outputs": []
    },
    {
      "cell_type": "code",
      "metadata": {
        "id": "wlZfVu3f3E20",
        "colab_type": "code",
        "colab": {}
      },
      "source": [
        "enc['Property_Area']=le.fit_transform(enc['Property_Area'])"
      ],
      "execution_count": 0,
      "outputs": []
    },
    {
      "cell_type": "code",
      "metadata": {
        "id": "0VEmb4PW3NOZ",
        "colab_type": "code",
        "outputId": "0d39dd50-ba2f-4872-cd19-37cae6425606",
        "colab": {
          "base_uri": "https://localhost:8080/",
          "height": 404
        }
      },
      "source": [
        "enc"
      ],
      "execution_count": 0,
      "outputs": [
        {
          "output_type": "execute_result",
          "data": {
            "text/html": [
              "<div>\n",
              "<style scoped>\n",
              "    .dataframe tbody tr th:only-of-type {\n",
              "        vertical-align: middle;\n",
              "    }\n",
              "\n",
              "    .dataframe tbody tr th {\n",
              "        vertical-align: top;\n",
              "    }\n",
              "\n",
              "    .dataframe thead th {\n",
              "        text-align: right;\n",
              "    }\n",
              "</style>\n",
              "<table border=\"1\" class=\"dataframe\">\n",
              "  <thead>\n",
              "    <tr style=\"text-align: right;\">\n",
              "      <th></th>\n",
              "      <th>Gender</th>\n",
              "      <th>Married</th>\n",
              "      <th>Dependents</th>\n",
              "      <th>Education</th>\n",
              "      <th>Self_Employed</th>\n",
              "      <th>ApplicantIncome</th>\n",
              "      <th>CoapplicantIncome</th>\n",
              "      <th>LoanAmount</th>\n",
              "      <th>Loan_Amount_Term</th>\n",
              "      <th>Credit_History</th>\n",
              "      <th>Property_Area</th>\n",
              "      <th>Loan_Status</th>\n",
              "    </tr>\n",
              "  </thead>\n",
              "  <tbody>\n",
              "    <tr>\n",
              "      <th>0</th>\n",
              "      <td>1</td>\n",
              "      <td>1</td>\n",
              "      <td>1</td>\n",
              "      <td>1</td>\n",
              "      <td>1</td>\n",
              "      <td>5849</td>\n",
              "      <td>0.0</td>\n",
              "      <td>0.0</td>\n",
              "      <td>360.0</td>\n",
              "      <td>1</td>\n",
              "      <td>1</td>\n",
              "      <td>1</td>\n",
              "    </tr>\n",
              "    <tr>\n",
              "      <th>1</th>\n",
              "      <td>1</td>\n",
              "      <td>1</td>\n",
              "      <td>1</td>\n",
              "      <td>1</td>\n",
              "      <td>1</td>\n",
              "      <td>4583</td>\n",
              "      <td>1508.0</td>\n",
              "      <td>128.0</td>\n",
              "      <td>360.0</td>\n",
              "      <td>1</td>\n",
              "      <td>1</td>\n",
              "      <td>0</td>\n",
              "    </tr>\n",
              "    <tr>\n",
              "      <th>2</th>\n",
              "      <td>1</td>\n",
              "      <td>1</td>\n",
              "      <td>1</td>\n",
              "      <td>1</td>\n",
              "      <td>1</td>\n",
              "      <td>3000</td>\n",
              "      <td>0.0</td>\n",
              "      <td>66.0</td>\n",
              "      <td>360.0</td>\n",
              "      <td>1</td>\n",
              "      <td>1</td>\n",
              "      <td>1</td>\n",
              "    </tr>\n",
              "    <tr>\n",
              "      <th>3</th>\n",
              "      <td>1</td>\n",
              "      <td>1</td>\n",
              "      <td>1</td>\n",
              "      <td>1</td>\n",
              "      <td>1</td>\n",
              "      <td>2583</td>\n",
              "      <td>2358.0</td>\n",
              "      <td>120.0</td>\n",
              "      <td>360.0</td>\n",
              "      <td>1</td>\n",
              "      <td>1</td>\n",
              "      <td>1</td>\n",
              "    </tr>\n",
              "    <tr>\n",
              "      <th>4</th>\n",
              "      <td>1</td>\n",
              "      <td>1</td>\n",
              "      <td>1</td>\n",
              "      <td>1</td>\n",
              "      <td>1</td>\n",
              "      <td>6000</td>\n",
              "      <td>0.0</td>\n",
              "      <td>141.0</td>\n",
              "      <td>360.0</td>\n",
              "      <td>1</td>\n",
              "      <td>1</td>\n",
              "      <td>1</td>\n",
              "    </tr>\n",
              "    <tr>\n",
              "      <th>...</th>\n",
              "      <td>...</td>\n",
              "      <td>...</td>\n",
              "      <td>...</td>\n",
              "      <td>...</td>\n",
              "      <td>...</td>\n",
              "      <td>...</td>\n",
              "      <td>...</td>\n",
              "      <td>...</td>\n",
              "      <td>...</td>\n",
              "      <td>...</td>\n",
              "      <td>...</td>\n",
              "      <td>...</td>\n",
              "    </tr>\n",
              "    <tr>\n",
              "      <th>609</th>\n",
              "      <td>0</td>\n",
              "      <td>0</td>\n",
              "      <td>0</td>\n",
              "      <td>0</td>\n",
              "      <td>0</td>\n",
              "      <td>2900</td>\n",
              "      <td>0.0</td>\n",
              "      <td>71.0</td>\n",
              "      <td>360.0</td>\n",
              "      <td>0</td>\n",
              "      <td>0</td>\n",
              "      <td>1</td>\n",
              "    </tr>\n",
              "    <tr>\n",
              "      <th>610</th>\n",
              "      <td>1</td>\n",
              "      <td>1</td>\n",
              "      <td>1</td>\n",
              "      <td>1</td>\n",
              "      <td>1</td>\n",
              "      <td>4106</td>\n",
              "      <td>0.0</td>\n",
              "      <td>40.0</td>\n",
              "      <td>180.0</td>\n",
              "      <td>1</td>\n",
              "      <td>1</td>\n",
              "      <td>1</td>\n",
              "    </tr>\n",
              "    <tr>\n",
              "      <th>611</th>\n",
              "      <td>1</td>\n",
              "      <td>1</td>\n",
              "      <td>1</td>\n",
              "      <td>1</td>\n",
              "      <td>1</td>\n",
              "      <td>8072</td>\n",
              "      <td>240.0</td>\n",
              "      <td>253.0</td>\n",
              "      <td>360.0</td>\n",
              "      <td>1</td>\n",
              "      <td>1</td>\n",
              "      <td>1</td>\n",
              "    </tr>\n",
              "    <tr>\n",
              "      <th>612</th>\n",
              "      <td>1</td>\n",
              "      <td>1</td>\n",
              "      <td>1</td>\n",
              "      <td>1</td>\n",
              "      <td>1</td>\n",
              "      <td>7583</td>\n",
              "      <td>0.0</td>\n",
              "      <td>187.0</td>\n",
              "      <td>360.0</td>\n",
              "      <td>1</td>\n",
              "      <td>1</td>\n",
              "      <td>1</td>\n",
              "    </tr>\n",
              "    <tr>\n",
              "      <th>613</th>\n",
              "      <td>0</td>\n",
              "      <td>0</td>\n",
              "      <td>0</td>\n",
              "      <td>0</td>\n",
              "      <td>0</td>\n",
              "      <td>4583</td>\n",
              "      <td>0.0</td>\n",
              "      <td>133.0</td>\n",
              "      <td>360.0</td>\n",
              "      <td>0</td>\n",
              "      <td>0</td>\n",
              "      <td>0</td>\n",
              "    </tr>\n",
              "  </tbody>\n",
              "</table>\n",
              "<p>614 rows × 12 columns</p>\n",
              "</div>"
            ],
            "text/plain": [
              "     Gender  Married  Dependents  ...  Credit_History  Property_Area  Loan_Status\n",
              "0         1        1           1  ...               1              1            1\n",
              "1         1        1           1  ...               1              1            0\n",
              "2         1        1           1  ...               1              1            1\n",
              "3         1        1           1  ...               1              1            1\n",
              "4         1        1           1  ...               1              1            1\n",
              "..      ...      ...         ...  ...             ...            ...          ...\n",
              "609       0        0           0  ...               0              0            1\n",
              "610       1        1           1  ...               1              1            1\n",
              "611       1        1           1  ...               1              1            1\n",
              "612       1        1           1  ...               1              1            1\n",
              "613       0        0           0  ...               0              0            0\n",
              "\n",
              "[614 rows x 12 columns]"
            ]
          },
          "metadata": {
            "tags": []
          },
          "execution_count": 380
        }
      ]
    },
    {
      "cell_type": "markdown",
      "metadata": {
        "id": "u_UbU4ji3d5e",
        "colab_type": "text"
      },
      "source": [
        "**What is the shape of dataframe post Categorical Encoding ?**"
      ]
    },
    {
      "cell_type": "code",
      "metadata": {
        "id": "JO_rNNyb3etI",
        "colab_type": "code",
        "outputId": "923887b4-3bbc-4bdf-a8cc-bb81e73c1f36",
        "colab": {
          "base_uri": "https://localhost:8080/",
          "height": 33
        }
      },
      "source": [
        "enc.shape"
      ],
      "execution_count": 0,
      "outputs": [
        {
          "output_type": "execute_result",
          "data": {
            "text/plain": [
              "(614, 12)"
            ]
          },
          "metadata": {
            "tags": []
          },
          "execution_count": 381
        }
      ]
    },
    {
      "cell_type": "markdown",
      "metadata": {
        "id": "cq8Q00ht4BzG",
        "colab_type": "text"
      },
      "source": [
        "**Carry out Correlation analysis on this dataframe. Plot using HeatMap**"
      ]
    },
    {
      "cell_type": "code",
      "metadata": {
        "id": "If-Oy3LH4Edi",
        "colab_type": "code",
        "outputId": "9a402981-af47-4f76-a801-6b3ce3490fa8",
        "colab": {
          "base_uri": "https://localhost:8080/",
          "height": 365
        }
      },
      "source": [
        "corr = enc.corr()\n",
        "corr.head(10)"
      ],
      "execution_count": 0,
      "outputs": [
        {
          "output_type": "execute_result",
          "data": {
            "text/html": [
              "<div>\n",
              "<style scoped>\n",
              "    .dataframe tbody tr th:only-of-type {\n",
              "        vertical-align: middle;\n",
              "    }\n",
              "\n",
              "    .dataframe tbody tr th {\n",
              "        vertical-align: top;\n",
              "    }\n",
              "\n",
              "    .dataframe thead th {\n",
              "        text-align: right;\n",
              "    }\n",
              "</style>\n",
              "<table border=\"1\" class=\"dataframe\">\n",
              "  <thead>\n",
              "    <tr style=\"text-align: right;\">\n",
              "      <th></th>\n",
              "      <th>Gender</th>\n",
              "      <th>Married</th>\n",
              "      <th>Dependents</th>\n",
              "      <th>Education</th>\n",
              "      <th>Self_Employed</th>\n",
              "      <th>ApplicantIncome</th>\n",
              "      <th>CoapplicantIncome</th>\n",
              "      <th>LoanAmount</th>\n",
              "      <th>Loan_Amount_Term</th>\n",
              "      <th>Credit_History</th>\n",
              "      <th>Property_Area</th>\n",
              "      <th>Loan_Status</th>\n",
              "    </tr>\n",
              "  </thead>\n",
              "  <tbody>\n",
              "    <tr>\n",
              "      <th>Gender</th>\n",
              "      <td>1.000000</td>\n",
              "      <td>1.000000</td>\n",
              "      <td>1.000000</td>\n",
              "      <td>1.000000</td>\n",
              "      <td>1.000000</td>\n",
              "      <td>0.058809</td>\n",
              "      <td>0.082912</td>\n",
              "      <td>0.095586</td>\n",
              "      <td>-0.049785</td>\n",
              "      <td>1.000000</td>\n",
              "      <td>1.000000</td>\n",
              "      <td>0.017987</td>\n",
              "    </tr>\n",
              "    <tr>\n",
              "      <th>Married</th>\n",
              "      <td>1.000000</td>\n",
              "      <td>1.000000</td>\n",
              "      <td>1.000000</td>\n",
              "      <td>1.000000</td>\n",
              "      <td>1.000000</td>\n",
              "      <td>0.058809</td>\n",
              "      <td>0.082912</td>\n",
              "      <td>0.095586</td>\n",
              "      <td>-0.049785</td>\n",
              "      <td>1.000000</td>\n",
              "      <td>1.000000</td>\n",
              "      <td>0.017987</td>\n",
              "    </tr>\n",
              "    <tr>\n",
              "      <th>Dependents</th>\n",
              "      <td>1.000000</td>\n",
              "      <td>1.000000</td>\n",
              "      <td>1.000000</td>\n",
              "      <td>1.000000</td>\n",
              "      <td>1.000000</td>\n",
              "      <td>0.058809</td>\n",
              "      <td>0.082912</td>\n",
              "      <td>0.095586</td>\n",
              "      <td>-0.049785</td>\n",
              "      <td>1.000000</td>\n",
              "      <td>1.000000</td>\n",
              "      <td>0.017987</td>\n",
              "    </tr>\n",
              "    <tr>\n",
              "      <th>Education</th>\n",
              "      <td>1.000000</td>\n",
              "      <td>1.000000</td>\n",
              "      <td>1.000000</td>\n",
              "      <td>1.000000</td>\n",
              "      <td>1.000000</td>\n",
              "      <td>0.058809</td>\n",
              "      <td>0.082912</td>\n",
              "      <td>0.095586</td>\n",
              "      <td>-0.049785</td>\n",
              "      <td>1.000000</td>\n",
              "      <td>1.000000</td>\n",
              "      <td>0.017987</td>\n",
              "    </tr>\n",
              "    <tr>\n",
              "      <th>Self_Employed</th>\n",
              "      <td>1.000000</td>\n",
              "      <td>1.000000</td>\n",
              "      <td>1.000000</td>\n",
              "      <td>1.000000</td>\n",
              "      <td>1.000000</td>\n",
              "      <td>0.058809</td>\n",
              "      <td>0.082912</td>\n",
              "      <td>0.095586</td>\n",
              "      <td>-0.049785</td>\n",
              "      <td>1.000000</td>\n",
              "      <td>1.000000</td>\n",
              "      <td>0.017987</td>\n",
              "    </tr>\n",
              "    <tr>\n",
              "      <th>ApplicantIncome</th>\n",
              "      <td>0.058809</td>\n",
              "      <td>0.058809</td>\n",
              "      <td>0.058809</td>\n",
              "      <td>0.058809</td>\n",
              "      <td>0.058809</td>\n",
              "      <td>1.000000</td>\n",
              "      <td>-0.116605</td>\n",
              "      <td>0.538290</td>\n",
              "      <td>-0.015645</td>\n",
              "      <td>0.058809</td>\n",
              "      <td>0.058809</td>\n",
              "      <td>-0.004710</td>\n",
              "    </tr>\n",
              "    <tr>\n",
              "      <th>CoapplicantIncome</th>\n",
              "      <td>0.082912</td>\n",
              "      <td>0.082912</td>\n",
              "      <td>0.082912</td>\n",
              "      <td>0.082912</td>\n",
              "      <td>0.082912</td>\n",
              "      <td>-0.116605</td>\n",
              "      <td>1.000000</td>\n",
              "      <td>0.190377</td>\n",
              "      <td>-0.050321</td>\n",
              "      <td>0.082912</td>\n",
              "      <td>0.082912</td>\n",
              "      <td>-0.059187</td>\n",
              "    </tr>\n",
              "    <tr>\n",
              "      <th>LoanAmount</th>\n",
              "      <td>0.095586</td>\n",
              "      <td>0.095586</td>\n",
              "      <td>0.095586</td>\n",
              "      <td>0.095586</td>\n",
              "      <td>0.095586</td>\n",
              "      <td>0.538290</td>\n",
              "      <td>0.190377</td>\n",
              "      <td>1.000000</td>\n",
              "      <td>0.058519</td>\n",
              "      <td>0.095586</td>\n",
              "      <td>0.095586</td>\n",
              "      <td>-0.010631</td>\n",
              "    </tr>\n",
              "    <tr>\n",
              "      <th>Loan_Amount_Term</th>\n",
              "      <td>-0.049785</td>\n",
              "      <td>-0.049785</td>\n",
              "      <td>-0.049785</td>\n",
              "      <td>-0.049785</td>\n",
              "      <td>-0.049785</td>\n",
              "      <td>-0.015645</td>\n",
              "      <td>-0.050321</td>\n",
              "      <td>0.058519</td>\n",
              "      <td>1.000000</td>\n",
              "      <td>-0.049785</td>\n",
              "      <td>-0.049785</td>\n",
              "      <td>0.007306</td>\n",
              "    </tr>\n",
              "    <tr>\n",
              "      <th>Credit_History</th>\n",
              "      <td>1.000000</td>\n",
              "      <td>1.000000</td>\n",
              "      <td>1.000000</td>\n",
              "      <td>1.000000</td>\n",
              "      <td>1.000000</td>\n",
              "      <td>0.058809</td>\n",
              "      <td>0.082912</td>\n",
              "      <td>0.095586</td>\n",
              "      <td>-0.049785</td>\n",
              "      <td>1.000000</td>\n",
              "      <td>1.000000</td>\n",
              "      <td>0.017987</td>\n",
              "    </tr>\n",
              "  </tbody>\n",
              "</table>\n",
              "</div>"
            ],
            "text/plain": [
              "                     Gender   Married  ...  Property_Area  Loan_Status\n",
              "Gender             1.000000  1.000000  ...       1.000000     0.017987\n",
              "Married            1.000000  1.000000  ...       1.000000     0.017987\n",
              "Dependents         1.000000  1.000000  ...       1.000000     0.017987\n",
              "Education          1.000000  1.000000  ...       1.000000     0.017987\n",
              "Self_Employed      1.000000  1.000000  ...       1.000000     0.017987\n",
              "ApplicantIncome    0.058809  0.058809  ...       0.058809    -0.004710\n",
              "CoapplicantIncome  0.082912  0.082912  ...       0.082912    -0.059187\n",
              "LoanAmount         0.095586  0.095586  ...       0.095586    -0.010631\n",
              "Loan_Amount_Term  -0.049785 -0.049785  ...      -0.049785     0.007306\n",
              "Credit_History     1.000000  1.000000  ...       1.000000     0.017987\n",
              "\n",
              "[10 rows x 12 columns]"
            ]
          },
          "metadata": {
            "tags": []
          },
          "execution_count": 382
        }
      ]
    },
    {
      "cell_type": "code",
      "metadata": {
        "id": "cD7FvGsL4UjU",
        "colab_type": "code",
        "outputId": "be4c692a-f163-461d-d59b-7d81a40dc283",
        "colab": {
          "base_uri": "https://localhost:8080/",
          "height": 624
        }
      },
      "source": [
        "mask = np.zeros_like(corr, dtype=np.bool)\n",
        "mask[np.triu_indices_from(mask)] = True\n",
        "f, ax = plt.subplots(figsize=(11, 9))\n",
        "cmap = sns.diverging_palette(220, 10, as_cmap=True)\n",
        "svm = sns.heatmap(corr, mask=mask, cmap=cmap, center=0,\n",
        "            square=True, linewidths=.5, cbar_kws={\"shrink\": .5})\n",
        "figure = svm.get_figure()"
      ],
      "execution_count": 0,
      "outputs": [
        {
          "output_type": "display_data",
          "data": {
            "image/png": "[encoded data removed]",
            "text/plain": [
              "<Figure size 792x648 with 2 Axes>"
            ]
          },
          "metadata": {
            "tags": [],
            "needs_background": "light"
          }
        }
      ]
    },
    {
      "cell_type": "markdown",
      "metadata": {
        "id": "z7DnqOG34hx7",
        "colab_type": "text"
      },
      "source": [
        "**Identify the variables that have strong correlation using Label Encoding( Correlation Coefficient > 0.5 or <0.5)**"
      ]
    },
    {
      "cell_type": "markdown",
      "metadata": {
        "id": "bGa8ziPu53Qz",
        "colab_type": "text"
      },
      "source": [
        "Married:Gender, Dependents:Gender. Education:Gender, Self_Employed:Gender, Credit_History:Gender, Dependents:Married, Education:Married, Self_Employed:Married, Credit_History:Married, Education:Dependents, Self_Employed:Dependents, Credit_History:Dependents, Self_Employed:Education, Credit_History:Education, Credit_History:Self_Employed, Loan_Amount:ApplicantIncome are the strong correlation as CorrelationCoefficient > 0.5"
      ]
    },
    {
      "cell_type": "markdown",
      "metadata": {
        "id": "CyOUQuUP65t5",
        "colab_type": "text"
      },
      "source": [
        "**Step 3 - Using dataframe from Step 1:**"
      ]
    },
    {
      "cell_type": "markdown",
      "metadata": {
        "id": "9fg2mq6C68ae",
        "colab_type": "text"
      },
      "source": [
        "Perform One Hot Encoding on Categorical Independent Variables"
      ]
    },
    {
      "cell_type": "code",
      "metadata": {
        "id": "7Fz2cBqG7AeI",
        "colab_type": "code",
        "outputId": "256db03f-64fb-44ec-90f0-cac2c2cd4cf3",
        "colab": {
          "base_uri": "https://localhost:8080/",
          "height": 34
        }
      },
      "source": [
        "df_ohe=df.copy()\n",
        "ohe = OneHotEncoder(handle_unknown='ignore')\n",
        "print(categoricalColumns)"
      ],
      "execution_count": 0,
      "outputs": [
        {
          "output_type": "stream",
          "text": [
            "['Gender', 'Married', 'Dependents', 'Education', 'Self_Employed', 'Credit_History', 'Property_Area', 'Loan_Status']\n"
          ],
          "name": "stdout"
        }
      ]
    },
    {
      "cell_type": "code",
      "metadata": {
        "id": "LQmqCeUXCZiE",
        "colab_type": "code",
        "outputId": "72937d2c-d52f-48eb-c4cc-d7647dad29c3",
        "colab": {
          "base_uri": "https://localhost:8080/",
          "height": 204
        }
      },
      "source": [
        "df_ohe.head()"
      ],
      "execution_count": 0,
      "outputs": [
        {
          "output_type": "execute_result",
          "data": {
            "text/html": [
              "<div>\n",
              "<style scoped>\n",
              "    .dataframe tbody tr th:only-of-type {\n",
              "        vertical-align: middle;\n",
              "    }\n",
              "\n",
              "    .dataframe tbody tr th {\n",
              "        vertical-align: top;\n",
              "    }\n",
              "\n",
              "    .dataframe thead th {\n",
              "        text-align: right;\n",
              "    }\n",
              "</style>\n",
              "<table border=\"1\" class=\"dataframe\">\n",
              "  <thead>\n",
              "    <tr style=\"text-align: right;\">\n",
              "      <th></th>\n",
              "      <th>Gender</th>\n",
              "      <th>Married</th>\n",
              "      <th>Dependents</th>\n",
              "      <th>Education</th>\n",
              "      <th>Self_Employed</th>\n",
              "      <th>ApplicantIncome</th>\n",
              "      <th>CoapplicantIncome</th>\n",
              "      <th>LoanAmount</th>\n",
              "      <th>Loan_Amount_Term</th>\n",
              "      <th>Credit_History</th>\n",
              "      <th>Property_Area</th>\n",
              "      <th>Loan_Status</th>\n",
              "    </tr>\n",
              "  </thead>\n",
              "  <tbody>\n",
              "    <tr>\n",
              "      <th>0</th>\n",
              "      <td>Male</td>\n",
              "      <td>No</td>\n",
              "      <td>0</td>\n",
              "      <td>Graduate</td>\n",
              "      <td>No</td>\n",
              "      <td>5849</td>\n",
              "      <td>0.0</td>\n",
              "      <td>NaN</td>\n",
              "      <td>360.0</td>\n",
              "      <td>1.0</td>\n",
              "      <td>Urban</td>\n",
              "      <td>1</td>\n",
              "    </tr>\n",
              "    <tr>\n",
              "      <th>1</th>\n",
              "      <td>Male</td>\n",
              "      <td>Yes</td>\n",
              "      <td>1</td>\n",
              "      <td>Graduate</td>\n",
              "      <td>No</td>\n",
              "      <td>4583</td>\n",
              "      <td>1508.0</td>\n",
              "      <td>128.0</td>\n",
              "      <td>360.0</td>\n",
              "      <td>1.0</td>\n",
              "      <td>Rural</td>\n",
              "      <td>0</td>\n",
              "    </tr>\n",
              "    <tr>\n",
              "      <th>2</th>\n",
              "      <td>Male</td>\n",
              "      <td>Yes</td>\n",
              "      <td>0</td>\n",
              "      <td>Graduate</td>\n",
              "      <td>Yes</td>\n",
              "      <td>3000</td>\n",
              "      <td>0.0</td>\n",
              "      <td>66.0</td>\n",
              "      <td>360.0</td>\n",
              "      <td>1.0</td>\n",
              "      <td>Urban</td>\n",
              "      <td>1</td>\n",
              "    </tr>\n",
              "    <tr>\n",
              "      <th>3</th>\n",
              "      <td>Male</td>\n",
              "      <td>Yes</td>\n",
              "      <td>0</td>\n",
              "      <td>Not Graduate</td>\n",
              "      <td>No</td>\n",
              "      <td>2583</td>\n",
              "      <td>2358.0</td>\n",
              "      <td>120.0</td>\n",
              "      <td>360.0</td>\n",
              "      <td>1.0</td>\n",
              "      <td>Urban</td>\n",
              "      <td>1</td>\n",
              "    </tr>\n",
              "    <tr>\n",
              "      <th>4</th>\n",
              "      <td>Male</td>\n",
              "      <td>No</td>\n",
              "      <td>0</td>\n",
              "      <td>Graduate</td>\n",
              "      <td>No</td>\n",
              "      <td>6000</td>\n",
              "      <td>0.0</td>\n",
              "      <td>141.0</td>\n",
              "      <td>360.0</td>\n",
              "      <td>1.0</td>\n",
              "      <td>Urban</td>\n",
              "      <td>1</td>\n",
              "    </tr>\n",
              "  </tbody>\n",
              "</table>\n",
              "</div>"
            ],
            "text/plain": [
              "  Gender Married Dependents  ... Credit_History Property_Area  Loan_Status\n",
              "0   Male      No          0  ...            1.0         Urban            1\n",
              "1   Male     Yes          1  ...            1.0         Rural            0\n",
              "2   Male     Yes          0  ...            1.0         Urban            1\n",
              "3   Male     Yes          0  ...            1.0         Urban            1\n",
              "4   Male      No          0  ...            1.0         Urban            1\n",
              "\n",
              "[5 rows x 12 columns]"
            ]
          },
          "metadata": {
            "tags": []
          },
          "execution_count": 399
        }
      ]
    },
    {
      "cell_type": "code",
      "metadata": {
        "id": "nCeoEFZbCjjy",
        "colab_type": "code",
        "colab": {}
      },
      "source": [
        "df_ohe['Gender']=df_ohe['Gender'].fillna(df[\"Gender\"].value_counts().nlargest(n=1).index[0])\n",
        "df_ohe.Gender.isnull().sum()\n",
        "df_ohe = df_ohe.fillna(0)"
      ],
      "execution_count": 0,
      "outputs": []
    },
    {
      "cell_type": "code",
      "metadata": {
        "id": "vHyv9cu8EmOu",
        "colab_type": "code",
        "colab": {}
      },
      "source": [
        "df_ohe['Self_Employed'].replace({0:\"No\"},inplace=True)\n",
        "df_ohe['Married'].replace({0:\"No\"},inplace=True)\n",
        "df_ohe['Dependents'].replace({\"3+\":'3',0:'0'},inplace=True)"
      ],
      "execution_count": 0,
      "outputs": []
    },
    {
      "cell_type": "code",
      "metadata": {
        "id": "4MG26tXv7Ud1",
        "colab_type": "code",
        "outputId": "238bf285-4e5c-4805-d50a-c55c56d4e74f",
        "colab": {
          "base_uri": "https://localhost:8080/",
          "height": 153
        }
      },
      "source": [
        "for i in categoricalcolumns:\n",
        "  print(\"{} column encoded\".format(i))\n",
        "  enc_rel = pd.DataFrame(ohe.fit_transform(df_ohe[[i]]).toarray())\n",
        "  enc_rel = enc_rel.add_prefix(i+\"_\")\n",
        "  df_ohe = df_ohe.join(enc_rel)\n",
        "  df_ohe = df_ohe.drop(i,axis=1)"
      ],
      "execution_count": 0,
      "outputs": [
        {
          "output_type": "stream",
          "text": [
            "Gender column encoded\n",
            "Married column encoded\n",
            "Dependents column encoded\n",
            "Education column encoded\n",
            "Self_Employed column encoded\n",
            "Credit_History column encoded\n",
            "Property_Area column encoded\n",
            "Loan_Status column encoded\n"
          ],
          "name": "stdout"
        }
      ]
    },
    {
      "cell_type": "code",
      "metadata": {
        "id": "nCsyBi3lEwzN",
        "colab_type": "code",
        "outputId": "c86a8cdc-9302-4635-ce6f-472ac37e1a50",
        "colab": {
          "base_uri": "https://localhost:8080/",
          "height": 425
        }
      },
      "source": [
        "df_ohe.isnull().sum()"
      ],
      "execution_count": 0,
      "outputs": [
        {
          "output_type": "execute_result",
          "data": {
            "text/plain": [
              "ApplicantIncome      0\n",
              "CoapplicantIncome    0\n",
              "LoanAmount           0\n",
              "Loan_Amount_Term     0\n",
              "Gender_0             0\n",
              "Gender_1             0\n",
              "Married_0            0\n",
              "Married_1            0\n",
              "Dependents_0         0\n",
              "Dependents_1         0\n",
              "Dependents_2         0\n",
              "Dependents_3         0\n",
              "Education_0          0\n",
              "Education_1          0\n",
              "Self_Employed_0      0\n",
              "Self_Employed_1      0\n",
              "Credit_History_0     0\n",
              "Credit_History_1     0\n",
              "Property_Area_0      0\n",
              "Property_Area_1      0\n",
              "Property_Area_2      0\n",
              "Loan_Status_0        0\n",
              "Loan_Status_1        0\n",
              "dtype: int64"
            ]
          },
          "metadata": {
            "tags": []
          },
          "execution_count": 403
        }
      ]
    },
    {
      "cell_type": "code",
      "metadata": {
        "id": "OQkujGQhIMCF",
        "colab_type": "code",
        "colab": {
          "base_uri": "https://localhost:8080/",
          "height": 216
        },
        "outputId": "1dd7f24b-3606-493f-dfd7-ac738c4f8863"
      },
      "source": [
        "df_ohe.head()"
      ],
      "execution_count": 407,
      "outputs": [
        {
          "output_type": "execute_result",
          "data": {
            "text/html": [
              "<div>\n",
              "<style scoped>\n",
              "    .dataframe tbody tr th:only-of-type {\n",
              "        vertical-align: middle;\n",
              "    }\n",
              "\n",
              "    .dataframe tbody tr th {\n",
              "        vertical-align: top;\n",
              "    }\n",
              "\n",
              "    .dataframe thead th {\n",
              "        text-align: right;\n",
              "    }\n",
              "</style>\n",
              "<table border=\"1\" class=\"dataframe\">\n",
              "  <thead>\n",
              "    <tr style=\"text-align: right;\">\n",
              "      <th></th>\n",
              "      <th>ApplicantIncome</th>\n",
              "      <th>CoapplicantIncome</th>\n",
              "      <th>LoanAmount</th>\n",
              "      <th>Loan_Amount_Term</th>\n",
              "      <th>Gender_0</th>\n",
              "      <th>Gender_1</th>\n",
              "      <th>Married_0</th>\n",
              "      <th>Married_1</th>\n",
              "      <th>Dependents_0</th>\n",
              "      <th>Dependents_1</th>\n",
              "      <th>Dependents_2</th>\n",
              "      <th>Dependents_3</th>\n",
              "      <th>Education_0</th>\n",
              "      <th>Education_1</th>\n",
              "      <th>Self_Employed_0</th>\n",
              "      <th>Self_Employed_1</th>\n",
              "      <th>Credit_History_0</th>\n",
              "      <th>Credit_History_1</th>\n",
              "      <th>Property_Area_0</th>\n",
              "      <th>Property_Area_1</th>\n",
              "      <th>Property_Area_2</th>\n",
              "      <th>Loan_Status_0</th>\n",
              "      <th>Loan_Status_1</th>\n",
              "    </tr>\n",
              "  </thead>\n",
              "  <tbody>\n",
              "    <tr>\n",
              "      <th>0</th>\n",
              "      <td>5849</td>\n",
              "      <td>0.0</td>\n",
              "      <td>0.0</td>\n",
              "      <td>360.0</td>\n",
              "      <td>0.0</td>\n",
              "      <td>1.0</td>\n",
              "      <td>1.0</td>\n",
              "      <td>0.0</td>\n",
              "      <td>1.0</td>\n",
              "      <td>0.0</td>\n",
              "      <td>0.0</td>\n",
              "      <td>0.0</td>\n",
              "      <td>1.0</td>\n",
              "      <td>0.0</td>\n",
              "      <td>1.0</td>\n",
              "      <td>0.0</td>\n",
              "      <td>0.0</td>\n",
              "      <td>1.0</td>\n",
              "      <td>0.0</td>\n",
              "      <td>0.0</td>\n",
              "      <td>1.0</td>\n",
              "      <td>0.0</td>\n",
              "      <td>1.0</td>\n",
              "    </tr>\n",
              "    <tr>\n",
              "      <th>1</th>\n",
              "      <td>4583</td>\n",
              "      <td>1508.0</td>\n",
              "      <td>128.0</td>\n",
              "      <td>360.0</td>\n",
              "      <td>0.0</td>\n",
              "      <td>1.0</td>\n",
              "      <td>0.0</td>\n",
              "      <td>1.0</td>\n",
              "      <td>0.0</td>\n",
              "      <td>1.0</td>\n",
              "      <td>0.0</td>\n",
              "      <td>0.0</td>\n",
              "      <td>1.0</td>\n",
              "      <td>0.0</td>\n",
              "      <td>1.0</td>\n",
              "      <td>0.0</td>\n",
              "      <td>0.0</td>\n",
              "      <td>1.0</td>\n",
              "      <td>1.0</td>\n",
              "      <td>0.0</td>\n",
              "      <td>0.0</td>\n",
              "      <td>1.0</td>\n",
              "      <td>0.0</td>\n",
              "    </tr>\n",
              "    <tr>\n",
              "      <th>2</th>\n",
              "      <td>3000</td>\n",
              "      <td>0.0</td>\n",
              "      <td>66.0</td>\n",
              "      <td>360.0</td>\n",
              "      <td>0.0</td>\n",
              "      <td>1.0</td>\n",
              "      <td>0.0</td>\n",
              "      <td>1.0</td>\n",
              "      <td>1.0</td>\n",
              "      <td>0.0</td>\n",
              "      <td>0.0</td>\n",
              "      <td>0.0</td>\n",
              "      <td>1.0</td>\n",
              "      <td>0.0</td>\n",
              "      <td>0.0</td>\n",
              "      <td>1.0</td>\n",
              "      <td>0.0</td>\n",
              "      <td>1.0</td>\n",
              "      <td>0.0</td>\n",
              "      <td>0.0</td>\n",
              "      <td>1.0</td>\n",
              "      <td>0.0</td>\n",
              "      <td>1.0</td>\n",
              "    </tr>\n",
              "    <tr>\n",
              "      <th>3</th>\n",
              "      <td>2583</td>\n",
              "      <td>2358.0</td>\n",
              "      <td>120.0</td>\n",
              "      <td>360.0</td>\n",
              "      <td>0.0</td>\n",
              "      <td>1.0</td>\n",
              "      <td>0.0</td>\n",
              "      <td>1.0</td>\n",
              "      <td>1.0</td>\n",
              "      <td>0.0</td>\n",
              "      <td>0.0</td>\n",
              "      <td>0.0</td>\n",
              "      <td>0.0</td>\n",
              "      <td>1.0</td>\n",
              "      <td>1.0</td>\n",
              "      <td>0.0</td>\n",
              "      <td>0.0</td>\n",
              "      <td>1.0</td>\n",
              "      <td>0.0</td>\n",
              "      <td>0.0</td>\n",
              "      <td>1.0</td>\n",
              "      <td>0.0</td>\n",
              "      <td>1.0</td>\n",
              "    </tr>\n",
              "    <tr>\n",
              "      <th>4</th>\n",
              "      <td>6000</td>\n",
              "      <td>0.0</td>\n",
              "      <td>141.0</td>\n",
              "      <td>360.0</td>\n",
              "      <td>0.0</td>\n",
              "      <td>1.0</td>\n",
              "      <td>1.0</td>\n",
              "      <td>0.0</td>\n",
              "      <td>1.0</td>\n",
              "      <td>0.0</td>\n",
              "      <td>0.0</td>\n",
              "      <td>0.0</td>\n",
              "      <td>1.0</td>\n",
              "      <td>0.0</td>\n",
              "      <td>1.0</td>\n",
              "      <td>0.0</td>\n",
              "      <td>0.0</td>\n",
              "      <td>1.0</td>\n",
              "      <td>0.0</td>\n",
              "      <td>0.0</td>\n",
              "      <td>1.0</td>\n",
              "      <td>0.0</td>\n",
              "      <td>1.0</td>\n",
              "    </tr>\n",
              "  </tbody>\n",
              "</table>\n",
              "</div>"
            ],
            "text/plain": [
              "   ApplicantIncome  CoapplicantIncome  ...  Loan_Status_0  Loan_Status_1\n",
              "0             5849                0.0  ...            0.0            1.0\n",
              "1             4583             1508.0  ...            1.0            0.0\n",
              "2             3000                0.0  ...            0.0            1.0\n",
              "3             2583             2358.0  ...            0.0            1.0\n",
              "4             6000                0.0  ...            0.0            1.0\n",
              "\n",
              "[5 rows x 23 columns]"
            ]
          },
          "metadata": {
            "tags": []
          },
          "execution_count": 407
        }
      ]
    },
    {
      "cell_type": "markdown",
      "metadata": {
        "id": "K0WioCkjIbb3",
        "colab_type": "text"
      },
      "source": [
        "**What is the shape of dataframe post OHE Encoding ?**"
      ]
    },
    {
      "cell_type": "code",
      "metadata": {
        "id": "it3TCuyHIcyG",
        "colab_type": "code",
        "colab": {
          "base_uri": "https://localhost:8080/",
          "height": 33
        },
        "outputId": "8eea885e-c340-4be2-ca16-eb9b9099ddc6"
      },
      "source": [
        "df_ohe.shape"
      ],
      "execution_count": 408,
      "outputs": [
        {
          "output_type": "execute_result",
          "data": {
            "text/plain": [
              "(614, 23)"
            ]
          },
          "metadata": {
            "tags": []
          },
          "execution_count": 408
        }
      ]
    },
    {
      "cell_type": "markdown",
      "metadata": {
        "id": "Poq5gy8_IjNk",
        "colab_type": "text"
      },
      "source": [
        "**Carry out Correlation analysis on this dataframe. Plot using HeatMap**"
      ]
    },
    {
      "cell_type": "code",
      "metadata": {
        "id": "f5FNdyljIkcm",
        "colab_type": "code",
        "colab": {
          "base_uri": "https://localhost:8080/",
          "height": 365
        },
        "outputId": "860c68ae-0740-46a1-ffa7-dcedb21cacb8"
      },
      "source": [
        "corr_ohe = df_ohe.corr()\n",
        "corr_ohe.head(10)"
      ],
      "execution_count": 411,
      "outputs": [
        {
          "output_type": "execute_result",
          "data": {
            "text/html": [
              "<div>\n",
              "<style scoped>\n",
              "    .dataframe tbody tr th:only-of-type {\n",
              "        vertical-align: middle;\n",
              "    }\n",
              "\n",
              "    .dataframe tbody tr th {\n",
              "        vertical-align: top;\n",
              "    }\n",
              "\n",
              "    .dataframe thead th {\n",
              "        text-align: right;\n",
              "    }\n",
              "</style>\n",
              "<table border=\"1\" class=\"dataframe\">\n",
              "  <thead>\n",
              "    <tr style=\"text-align: right;\">\n",
              "      <th></th>\n",
              "      <th>ApplicantIncome</th>\n",
              "      <th>CoapplicantIncome</th>\n",
              "      <th>LoanAmount</th>\n",
              "      <th>Loan_Amount_Term</th>\n",
              "      <th>Gender_0</th>\n",
              "      <th>Gender_1</th>\n",
              "      <th>Married_0</th>\n",
              "      <th>Married_1</th>\n",
              "      <th>Dependents_0</th>\n",
              "      <th>Dependents_1</th>\n",
              "      <th>Dependents_2</th>\n",
              "      <th>Dependents_3</th>\n",
              "      <th>Education_0</th>\n",
              "      <th>Education_1</th>\n",
              "      <th>Self_Employed_0</th>\n",
              "      <th>Self_Employed_1</th>\n",
              "      <th>Credit_History_0</th>\n",
              "      <th>Credit_History_1</th>\n",
              "      <th>Property_Area_0</th>\n",
              "      <th>Property_Area_1</th>\n",
              "      <th>Property_Area_2</th>\n",
              "      <th>Loan_Status_0</th>\n",
              "      <th>Loan_Status_1</th>\n",
              "    </tr>\n",
              "  </thead>\n",
              "  <tbody>\n",
              "    <tr>\n",
              "      <th>ApplicantIncome</th>\n",
              "      <td>1.000000</td>\n",
              "      <td>-0.116605</td>\n",
              "      <td>0.538290</td>\n",
              "      <td>-0.015645</td>\n",
              "      <td>-0.058809</td>\n",
              "      <td>0.058809</td>\n",
              "      <td>-0.050194</td>\n",
              "      <td>0.050194</td>\n",
              "      <td>-0.092599</td>\n",
              "      <td>0.040861</td>\n",
              "      <td>-0.034650</td>\n",
              "      <td>0.156687</td>\n",
              "      <td>0.140760</td>\n",
              "      <td>-0.140760</td>\n",
              "      <td>-0.127180</td>\n",
              "      <td>0.127180</td>\n",
              "      <td>-0.006986</td>\n",
              "      <td>0.006986</td>\n",
              "      <td>0.015829</td>\n",
              "      <td>-0.014246</td>\n",
              "      <td>-0.000598</td>\n",
              "      <td>0.004710</td>\n",
              "      <td>-0.004710</td>\n",
              "    </tr>\n",
              "    <tr>\n",
              "      <th>CoapplicantIncome</th>\n",
              "      <td>-0.116605</td>\n",
              "      <td>1.000000</td>\n",
              "      <td>0.190377</td>\n",
              "      <td>-0.050321</td>\n",
              "      <td>-0.082912</td>\n",
              "      <td>0.082912</td>\n",
              "      <td>-0.080496</td>\n",
              "      <td>0.080496</td>\n",
              "      <td>-0.008292</td>\n",
              "      <td>-0.029769</td>\n",
              "      <td>0.010016</td>\n",
              "      <td>0.041491</td>\n",
              "      <td>0.062290</td>\n",
              "      <td>-0.062290</td>\n",
              "      <td>0.016100</td>\n",
              "      <td>-0.016100</td>\n",
              "      <td>0.058795</td>\n",
              "      <td>-0.058795</td>\n",
              "      <td>0.005329</td>\n",
              "      <td>-0.027044</td>\n",
              "      <td>0.022776</td>\n",
              "      <td>0.059187</td>\n",
              "      <td>-0.059187</td>\n",
              "    </tr>\n",
              "    <tr>\n",
              "      <th>LoanAmount</th>\n",
              "      <td>0.538290</td>\n",
              "      <td>0.190377</td>\n",
              "      <td>1.000000</td>\n",
              "      <td>0.058519</td>\n",
              "      <td>-0.095586</td>\n",
              "      <td>0.095586</td>\n",
              "      <td>-0.140023</td>\n",
              "      <td>0.140023</td>\n",
              "      <td>-0.141048</td>\n",
              "      <td>0.056815</td>\n",
              "      <td>0.023105</td>\n",
              "      <td>0.144048</td>\n",
              "      <td>0.173244</td>\n",
              "      <td>-0.173244</td>\n",
              "      <td>-0.109154</td>\n",
              "      <td>0.109154</td>\n",
              "      <td>0.032711</td>\n",
              "      <td>-0.032711</td>\n",
              "      <td>0.043534</td>\n",
              "      <td>0.010772</td>\n",
              "      <td>-0.053234</td>\n",
              "      <td>0.010631</td>\n",
              "      <td>-0.010631</td>\n",
              "    </tr>\n",
              "    <tr>\n",
              "      <th>Loan_Amount_Term</th>\n",
              "      <td>-0.015645</td>\n",
              "      <td>-0.050321</td>\n",
              "      <td>0.058519</td>\n",
              "      <td>1.000000</td>\n",
              "      <td>0.049785</td>\n",
              "      <td>-0.049785</td>\n",
              "      <td>0.079926</td>\n",
              "      <td>-0.079926</td>\n",
              "      <td>0.037666</td>\n",
              "      <td>-0.043942</td>\n",
              "      <td>0.036037</td>\n",
              "      <td>-0.056365</td>\n",
              "      <td>0.108857</td>\n",
              "      <td>-0.108857</td>\n",
              "      <td>0.029185</td>\n",
              "      <td>-0.029185</td>\n",
              "      <td>-0.050145</td>\n",
              "      <td>0.050145</td>\n",
              "      <td>0.028186</td>\n",
              "      <td>0.080393</td>\n",
              "      <td>-0.110293</td>\n",
              "      <td>-0.007306</td>\n",
              "      <td>0.007306</td>\n",
              "    </tr>\n",
              "    <tr>\n",
              "      <th>Gender_0</th>\n",
              "      <td>-0.058809</td>\n",
              "      <td>-0.082912</td>\n",
              "      <td>-0.095586</td>\n",
              "      <td>0.049785</td>\n",
              "      <td>1.000000</td>\n",
              "      <td>-1.000000</td>\n",
              "      <td>0.367389</td>\n",
              "      <td>-0.367389</td>\n",
              "      <td>0.148421</td>\n",
              "      <td>0.004466</td>\n",
              "      <td>-0.129953</td>\n",
              "      <td>-0.096319</td>\n",
              "      <td>0.045364</td>\n",
              "      <td>-0.045364</td>\n",
              "      <td>-0.000525</td>\n",
              "      <td>0.000525</td>\n",
              "      <td>0.026655</td>\n",
              "      <td>-0.026655</td>\n",
              "      <td>-0.080283</td>\n",
              "      <td>0.108623</td>\n",
              "      <td>-0.034530</td>\n",
              "      <td>0.017987</td>\n",
              "      <td>-0.017987</td>\n",
              "    </tr>\n",
              "    <tr>\n",
              "      <th>Gender_1</th>\n",
              "      <td>0.058809</td>\n",
              "      <td>0.082912</td>\n",
              "      <td>0.095586</td>\n",
              "      <td>-0.049785</td>\n",
              "      <td>-1.000000</td>\n",
              "      <td>1.000000</td>\n",
              "      <td>-0.367389</td>\n",
              "      <td>0.367389</td>\n",
              "      <td>-0.148421</td>\n",
              "      <td>-0.004466</td>\n",
              "      <td>0.129953</td>\n",
              "      <td>0.096319</td>\n",
              "      <td>-0.045364</td>\n",
              "      <td>0.045364</td>\n",
              "      <td>0.000525</td>\n",
              "      <td>-0.000525</td>\n",
              "      <td>-0.026655</td>\n",
              "      <td>0.026655</td>\n",
              "      <td>0.080283</td>\n",
              "      <td>-0.108623</td>\n",
              "      <td>0.034530</td>\n",
              "      <td>-0.017987</td>\n",
              "      <td>0.017987</td>\n",
              "    </tr>\n",
              "    <tr>\n",
              "      <th>Married_0</th>\n",
              "      <td>-0.050194</td>\n",
              "      <td>-0.080496</td>\n",
              "      <td>-0.140023</td>\n",
              "      <td>0.079926</td>\n",
              "      <td>0.367389</td>\n",
              "      <td>-0.367389</td>\n",
              "      <td>1.000000</td>\n",
              "      <td>-1.000000</td>\n",
              "      <td>0.355644</td>\n",
              "      <td>-0.118052</td>\n",
              "      <td>-0.253280</td>\n",
              "      <td>-0.135217</td>\n",
              "      <td>0.017671</td>\n",
              "      <td>-0.017671</td>\n",
              "      <td>0.008491</td>\n",
              "      <td>-0.008491</td>\n",
              "      <td>-0.023626</td>\n",
              "      <td>0.023626</td>\n",
              "      <td>0.000220</td>\n",
              "      <td>0.000229</td>\n",
              "      <td>-0.000449</td>\n",
              "      <td>0.084281</td>\n",
              "      <td>-0.084281</td>\n",
              "    </tr>\n",
              "    <tr>\n",
              "      <th>Married_1</th>\n",
              "      <td>0.050194</td>\n",
              "      <td>0.080496</td>\n",
              "      <td>0.140023</td>\n",
              "      <td>-0.079926</td>\n",
              "      <td>-0.367389</td>\n",
              "      <td>0.367389</td>\n",
              "      <td>-1.000000</td>\n",
              "      <td>1.000000</td>\n",
              "      <td>-0.355644</td>\n",
              "      <td>0.118052</td>\n",
              "      <td>0.253280</td>\n",
              "      <td>0.135217</td>\n",
              "      <td>-0.017671</td>\n",
              "      <td>0.017671</td>\n",
              "      <td>-0.008491</td>\n",
              "      <td>0.008491</td>\n",
              "      <td>0.023626</td>\n",
              "      <td>-0.023626</td>\n",
              "      <td>-0.000220</td>\n",
              "      <td>-0.000229</td>\n",
              "      <td>0.000449</td>\n",
              "      <td>-0.084281</td>\n",
              "      <td>0.084281</td>\n",
              "    </tr>\n",
              "    <tr>\n",
              "      <th>Dependents_0</th>\n",
              "      <td>-0.092599</td>\n",
              "      <td>-0.008292</td>\n",
              "      <td>-0.141048</td>\n",
              "      <td>0.037666</td>\n",
              "      <td>0.148421</td>\n",
              "      <td>-0.148421</td>\n",
              "      <td>0.355644</td>\n",
              "      <td>-0.355644</td>\n",
              "      <td>1.000000</td>\n",
              "      <td>-0.531373</td>\n",
              "      <td>-0.528246</td>\n",
              "      <td>-0.358315</td>\n",
              "      <td>0.036563</td>\n",
              "      <td>-0.036563</td>\n",
              "      <td>0.088254</td>\n",
              "      <td>-0.088254</td>\n",
              "      <td>-0.019743</td>\n",
              "      <td>0.019743</td>\n",
              "      <td>0.044015</td>\n",
              "      <td>-0.004173</td>\n",
              "      <td>-0.038264</td>\n",
              "      <td>0.003044</td>\n",
              "      <td>-0.003044</td>\n",
              "    </tr>\n",
              "    <tr>\n",
              "      <th>Dependents_1</th>\n",
              "      <td>0.040861</td>\n",
              "      <td>-0.029769</td>\n",
              "      <td>0.056815</td>\n",
              "      <td>-0.043942</td>\n",
              "      <td>0.004466</td>\n",
              "      <td>-0.004466</td>\n",
              "      <td>-0.118052</td>\n",
              "      <td>0.118052</td>\n",
              "      <td>-0.531373</td>\n",
              "      <td>1.000000</td>\n",
              "      <td>-0.198046</td>\n",
              "      <td>-0.134337</td>\n",
              "      <td>0.013355</td>\n",
              "      <td>-0.013355</td>\n",
              "      <td>-0.082044</td>\n",
              "      <td>0.082044</td>\n",
              "      <td>0.030415</td>\n",
              "      <td>-0.030415</td>\n",
              "      <td>-0.084117</td>\n",
              "      <td>0.011661</td>\n",
              "      <td>0.069320</td>\n",
              "      <td>0.038740</td>\n",
              "      <td>-0.038740</td>\n",
              "    </tr>\n",
              "  </tbody>\n",
              "</table>\n",
              "</div>"
            ],
            "text/plain": [
              "                   ApplicantIncome  ...  Loan_Status_1\n",
              "ApplicantIncome           1.000000  ...      -0.004710\n",
              "CoapplicantIncome        -0.116605  ...      -0.059187\n",
              "LoanAmount                0.538290  ...      -0.010631\n",
              "Loan_Amount_Term         -0.015645  ...       0.007306\n",
              "Gender_0                 -0.058809  ...      -0.017987\n",
              "Gender_1                  0.058809  ...       0.017987\n",
              "Married_0                -0.050194  ...      -0.084281\n",
              "Married_1                 0.050194  ...       0.084281\n",
              "Dependents_0             -0.092599  ...      -0.003044\n",
              "Dependents_1              0.040861  ...      -0.038740\n",
              "\n",
              "[10 rows x 23 columns]"
            ]
          },
          "metadata": {
            "tags": []
          },
          "execution_count": 411
        }
      ]
    },
    {
      "cell_type": "code",
      "metadata": {
        "id": "cwzVGnPoIszy",
        "colab_type": "code",
        "colab": {
          "base_uri": "https://localhost:8080/",
          "height": 624
        },
        "outputId": "367a23bd-15cf-45b2-e119-7592f0dd9000"
      },
      "source": [
        "mask = np.zeros_like(corr_ohe, dtype=np.bool)\n",
        "mask[np.triu_indices_from(mask)] = True\n",
        "f, ax = plt.subplots(figsize=(11, 9))\n",
        "cmap = sns.diverging_palette(220, 10, as_cmap=True)\n",
        "svm = sns.heatmap(corr_ohe, mask=mask, cmap=cmap, center=0,\n",
        "            square=True, linewidths=.5, cbar_kws={\"shrink\": .5})\n",
        "figure = svm.get_figure()"
      ],
      "execution_count": 412,
      "outputs": [
        {
          "output_type": "display_data",
          "data": {
            "image/png": "[encoded data removed]",
            "text/plain": [
              "<Figure size 792x648 with 2 Axes>"
            ]
          },
          "metadata": {
            "tags": [],
            "needs_background": "light"
          }
        }
      ]
    },
    {
      "cell_type": "markdown",
      "metadata": {
        "id": "E_P9qxsfI9G3",
        "colab_type": "text"
      },
      "source": [
        "**Identify the variables that have strong correlation using OHE ( Correlation Coefficient > 0.5 or <0.5)**"
      ]
    },
    {
      "cell_type": "markdown",
      "metadata": {
        "id": "LXJR5eOSI_O6",
        "colab_type": "text"
      },
      "source": [
        "LoanAmount:ApplicantIncome, Loan_Status_0:Credit_History_0, Loan_Status_1:Credit_History_1 are the strong correlations."
      ]
    }
  ]
}